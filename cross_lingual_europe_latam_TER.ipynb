{
  "cells": [
    {
      "cell_type": "code",
      "source": [
        "!nvidia-smi"
      ],
      "metadata": {
        "colab": {
          "base_uri": "https://localhost:8080/"
        },
        "id": "jxFsCP2viHN9",
        "outputId": "de6fa678-90fd-455d-c963-ea6d4de37d03"
      },
      "id": "jxFsCP2viHN9",
      "execution_count": 2,
      "outputs": [
        {
          "output_type": "stream",
          "name": "stdout",
          "text": [
            "Tue Mar 22 21:34:11 2022       \n",
            "+-----------------------------------------------------------------------------+\n",
            "| NVIDIA-SMI 460.32.03    Driver Version: 460.32.03    CUDA Version: 11.2     |\n",
            "|-------------------------------+----------------------+----------------------+\n",
            "| GPU  Name        Persistence-M| Bus-Id        Disp.A | Volatile Uncorr. ECC |\n",
            "| Fan  Temp  Perf  Pwr:Usage/Cap|         Memory-Usage | GPU-Util  Compute M. |\n",
            "|                               |                      |               MIG M. |\n",
            "|===============================+======================+======================|\n",
            "|   0  Tesla T4            Off  | 00000000:00:04.0 Off |                    0 |\n",
            "| N/A   33C    P8     9W /  70W |      0MiB / 15109MiB |      0%      Default |\n",
            "|                               |                      |                  N/A |\n",
            "+-------------------------------+----------------------+----------------------+\n",
            "                                                                               \n",
            "+-----------------------------------------------------------------------------+\n",
            "| Processes:                                                                  |\n",
            "|  GPU   GI   CI        PID   Type   Process name                  GPU Memory |\n",
            "|        ID   ID                                                   Usage      |\n",
            "|=============================================================================|\n",
            "|  No running processes found                                                 |\n",
            "+-----------------------------------------------------------------------------+\n"
          ]
        }
      ]
    },
    {
      "cell_type": "code",
      "execution_count": 3,
      "id": "il3WXsgVtNM8",
      "metadata": {
        "colab": {
          "base_uri": "https://localhost:8080/"
        },
        "id": "il3WXsgVtNM8",
        "outputId": "5df5ea34-39e9-4fb3-a9cd-57b4c265245d"
      },
      "outputs": [
        {
          "output_type": "stream",
          "name": "stdout",
          "text": [
            "Collecting transformers\n",
            "  Downloading transformers-4.17.0-py3-none-any.whl (3.8 MB)\n",
            "\u001b[K     |████████████████████████████████| 3.8 MB 6.9 MB/s \n",
            "\u001b[?25hRequirement already satisfied: packaging>=20.0 in /usr/local/lib/python3.7/dist-packages (from transformers) (21.3)\n",
            "Requirement already satisfied: numpy>=1.17 in /usr/local/lib/python3.7/dist-packages (from transformers) (1.21.5)\n",
            "Collecting tokenizers!=0.11.3,>=0.11.1\n",
            "  Downloading tokenizers-0.11.6-cp37-cp37m-manylinux_2_12_x86_64.manylinux2010_x86_64.whl (6.5 MB)\n",
            "\u001b[K     |████████████████████████████████| 6.5 MB 51.0 MB/s \n",
            "\u001b[?25hRequirement already satisfied: regex!=2019.12.17 in /usr/local/lib/python3.7/dist-packages (from transformers) (2019.12.20)\n",
            "Requirement already satisfied: requests in /usr/local/lib/python3.7/dist-packages (from transformers) (2.23.0)\n",
            "Collecting huggingface-hub<1.0,>=0.1.0\n",
            "  Downloading huggingface_hub-0.4.0-py3-none-any.whl (67 kB)\n",
            "\u001b[K     |████████████████████████████████| 67 kB 3.5 MB/s \n",
            "\u001b[?25hRequirement already satisfied: filelock in /usr/local/lib/python3.7/dist-packages (from transformers) (3.6.0)\n",
            "Collecting sacremoses\n",
            "  Downloading sacremoses-0.0.49-py3-none-any.whl (895 kB)\n",
            "\u001b[K     |████████████████████████████████| 895 kB 36.8 MB/s \n",
            "\u001b[?25hCollecting pyyaml>=5.1\n",
            "  Downloading PyYAML-6.0-cp37-cp37m-manylinux_2_5_x86_64.manylinux1_x86_64.manylinux_2_12_x86_64.manylinux2010_x86_64.whl (596 kB)\n",
            "\u001b[K     |████████████████████████████████| 596 kB 36.3 MB/s \n",
            "\u001b[?25hRequirement already satisfied: importlib-metadata in /usr/local/lib/python3.7/dist-packages (from transformers) (4.11.3)\n",
            "Requirement already satisfied: tqdm>=4.27 in /usr/local/lib/python3.7/dist-packages (from transformers) (4.63.0)\n",
            "Requirement already satisfied: typing-extensions>=3.7.4.3 in /usr/local/lib/python3.7/dist-packages (from huggingface-hub<1.0,>=0.1.0->transformers) (3.10.0.2)\n",
            "Requirement already satisfied: pyparsing!=3.0.5,>=2.0.2 in /usr/local/lib/python3.7/dist-packages (from packaging>=20.0->transformers) (3.0.7)\n",
            "Requirement already satisfied: zipp>=0.5 in /usr/local/lib/python3.7/dist-packages (from importlib-metadata->transformers) (3.7.0)\n",
            "Requirement already satisfied: idna<3,>=2.5 in /usr/local/lib/python3.7/dist-packages (from requests->transformers) (2.10)\n",
            "Requirement already satisfied: urllib3!=1.25.0,!=1.25.1,<1.26,>=1.21.1 in /usr/local/lib/python3.7/dist-packages (from requests->transformers) (1.24.3)\n",
            "Requirement already satisfied: chardet<4,>=3.0.2 in /usr/local/lib/python3.7/dist-packages (from requests->transformers) (3.0.4)\n",
            "Requirement already satisfied: certifi>=2017.4.17 in /usr/local/lib/python3.7/dist-packages (from requests->transformers) (2021.10.8)\n",
            "Requirement already satisfied: click in /usr/local/lib/python3.7/dist-packages (from sacremoses->transformers) (7.1.2)\n",
            "Requirement already satisfied: joblib in /usr/local/lib/python3.7/dist-packages (from sacremoses->transformers) (1.1.0)\n",
            "Requirement already satisfied: six in /usr/local/lib/python3.7/dist-packages (from sacremoses->transformers) (1.15.0)\n",
            "Installing collected packages: pyyaml, tokenizers, sacremoses, huggingface-hub, transformers\n",
            "  Attempting uninstall: pyyaml\n",
            "    Found existing installation: PyYAML 3.13\n",
            "    Uninstalling PyYAML-3.13:\n",
            "      Successfully uninstalled PyYAML-3.13\n",
            "Successfully installed huggingface-hub-0.4.0 pyyaml-6.0 sacremoses-0.0.49 tokenizers-0.11.6 transformers-4.17.0\n",
            "Collecting wordsegment\n",
            "  Downloading wordsegment-1.3.1-py2.py3-none-any.whl (4.8 MB)\n",
            "\u001b[K     |████████████████████████████████| 4.8 MB 8.0 MB/s \n",
            "\u001b[?25hInstalling collected packages: wordsegment\n",
            "Successfully installed wordsegment-1.3.1\n",
            "Collecting wandb\n",
            "  Downloading wandb-0.12.11-py2.py3-none-any.whl (1.7 MB)\n",
            "\u001b[K     |████████████████████████████████| 1.7 MB 7.1 MB/s \n",
            "\u001b[?25hCollecting setproctitle\n",
            "  Downloading setproctitle-1.2.2-cp37-cp37m-manylinux1_x86_64.whl (36 kB)\n",
            "Collecting GitPython>=1.0.0\n",
            "  Downloading GitPython-3.1.27-py3-none-any.whl (181 kB)\n",
            "\u001b[K     |████████████████████████████████| 181 kB 67.6 MB/s \n",
            "\u001b[?25hRequirement already satisfied: Click!=8.0.0,>=7.0 in /usr/local/lib/python3.7/dist-packages (from wandb) (7.1.2)\n",
            "Requirement already satisfied: six>=1.13.0 in /usr/local/lib/python3.7/dist-packages (from wandb) (1.15.0)\n",
            "Collecting sentry-sdk>=1.0.0\n",
            "  Downloading sentry_sdk-1.5.8-py2.py3-none-any.whl (144 kB)\n",
            "\u001b[K     |████████████████████████████████| 144 kB 76.5 MB/s \n",
            "\u001b[?25hCollecting docker-pycreds>=0.4.0\n",
            "  Downloading docker_pycreds-0.4.0-py2.py3-none-any.whl (9.0 kB)\n",
            "Requirement already satisfied: requests<3,>=2.0.0 in /usr/local/lib/python3.7/dist-packages (from wandb) (2.23.0)\n",
            "Requirement already satisfied: python-dateutil>=2.6.1 in /usr/local/lib/python3.7/dist-packages (from wandb) (2.8.2)\n",
            "Requirement already satisfied: protobuf>=3.12.0 in /usr/local/lib/python3.7/dist-packages (from wandb) (3.17.3)\n",
            "Collecting pathtools\n",
            "  Downloading pathtools-0.1.2.tar.gz (11 kB)\n",
            "Requirement already satisfied: PyYAML in /usr/local/lib/python3.7/dist-packages (from wandb) (6.0)\n",
            "Collecting yaspin>=1.0.0\n",
            "  Downloading yaspin-2.1.0-py3-none-any.whl (18 kB)\n",
            "Requirement already satisfied: promise<3,>=2.0 in /usr/local/lib/python3.7/dist-packages (from wandb) (2.3)\n",
            "Collecting shortuuid>=0.5.0\n",
            "  Downloading shortuuid-1.0.8-py3-none-any.whl (9.5 kB)\n",
            "Requirement already satisfied: psutil>=5.0.0 in /usr/local/lib/python3.7/dist-packages (from wandb) (5.4.8)\n",
            "Collecting gitdb<5,>=4.0.1\n",
            "  Downloading gitdb-4.0.9-py3-none-any.whl (63 kB)\n",
            "\u001b[K     |████████████████████████████████| 63 kB 2.2 MB/s \n",
            "\u001b[?25hRequirement already satisfied: typing-extensions>=3.7.4.3 in /usr/local/lib/python3.7/dist-packages (from GitPython>=1.0.0->wandb) (3.10.0.2)\n",
            "Collecting smmap<6,>=3.0.1\n",
            "  Downloading smmap-5.0.0-py3-none-any.whl (24 kB)\n",
            "Requirement already satisfied: idna<3,>=2.5 in /usr/local/lib/python3.7/dist-packages (from requests<3,>=2.0.0->wandb) (2.10)\n",
            "Requirement already satisfied: urllib3!=1.25.0,!=1.25.1,<1.26,>=1.21.1 in /usr/local/lib/python3.7/dist-packages (from requests<3,>=2.0.0->wandb) (1.24.3)\n",
            "Requirement already satisfied: chardet<4,>=3.0.2 in /usr/local/lib/python3.7/dist-packages (from requests<3,>=2.0.0->wandb) (3.0.4)\n",
            "Requirement already satisfied: certifi>=2017.4.17 in /usr/local/lib/python3.7/dist-packages (from requests<3,>=2.0.0->wandb) (2021.10.8)\n",
            "Requirement already satisfied: termcolor<2.0.0,>=1.1.0 in /usr/local/lib/python3.7/dist-packages (from yaspin>=1.0.0->wandb) (1.1.0)\n",
            "Building wheels for collected packages: pathtools\n",
            "  Building wheel for pathtools (setup.py) ... \u001b[?25l\u001b[?25hdone\n",
            "  Created wheel for pathtools: filename=pathtools-0.1.2-py3-none-any.whl size=8806 sha256=7df41aa6809b855998ee5b6fef72a518e09bd70ed2ee7f8af1e9ef5e48731e34\n",
            "  Stored in directory: /root/.cache/pip/wheels/3e/31/09/fa59cef12cdcfecc627b3d24273699f390e71828921b2cbba2\n",
            "Successfully built pathtools\n",
            "Installing collected packages: smmap, gitdb, yaspin, shortuuid, setproctitle, sentry-sdk, pathtools, GitPython, docker-pycreds, wandb\n",
            "Successfully installed GitPython-3.1.27 docker-pycreds-0.4.0 gitdb-4.0.9 pathtools-0.1.2 sentry-sdk-1.5.8 setproctitle-1.2.2 shortuuid-1.0.8 smmap-5.0.0 wandb-0.12.11 yaspin-2.1.0\n"
          ]
        }
      ],
      "source": [
        "!pip install transformers\n",
        "!pip install wordsegment\n",
        "!pip install wandb"
      ]
    },
    {
      "cell_type": "code",
      "execution_count": 4,
      "id": "WX7-wfpltHWf",
      "metadata": {
        "colab": {
          "base_uri": "https://localhost:8080/"
        },
        "id": "WX7-wfpltHWf",
        "outputId": "1fe61de7-0f49-4a98-f191-6430d85543ad"
      },
      "outputs": [
        {
          "output_type": "stream",
          "name": "stdout",
          "text": [
            "Mounted at /content/drive\n"
          ]
        }
      ],
      "source": [
        "from google.colab import drive\n",
        "drive.mount('/content/drive')"
      ]
    },
    {
      "cell_type": "code",
      "execution_count": 5,
      "id": "1ab1d2d7",
      "metadata": {
        "id": "1ab1d2d7"
      },
      "outputs": [],
      "source": [
        "import json\n",
        "import pandas as pd\n",
        "import numpy as np\n",
        "import matplotlib.pyplot as plt\n",
        "import seaborn as sns\n",
        "\n",
        "import re\n",
        "import string\n",
        "import os\n",
        "from tqdm.notebook import tqdm\n",
        "\n",
        "import torch\n"
      ]
    },
    {
      "cell_type": "code",
      "execution_count": 6,
      "id": "d5ccf865",
      "metadata": {
        "id": "d5ccf865"
      },
      "outputs": [],
      "source": [
        "import time\n",
        "import transformers\n",
        "from transformers import BertModel, BertweetTokenizer, BertTokenizer, AdamW, get_linear_schedule_with_warmup\n",
        "import torch\n",
        "from torch.utils.data import TensorDataset, DataLoader\n",
        "\n",
        "from nltk.tokenize import word_tokenize\n",
        "from nltk.stem.wordnet import WordNetLemmatizer\n",
        "\n",
        "from wordsegment import load, segment\n",
        "import warnings"
      ]
    },
    {
      "cell_type": "code",
      "execution_count": 7,
      "id": "rGuQ6gdZDPdv",
      "metadata": {
        "id": "rGuQ6gdZDPdv"
      },
      "outputs": [],
      "source": [
        "from transformers import TrainingArguments, Trainer\n",
        "from transformers import BertTokenizer, BertForSequenceClassification\n",
        "from transformers import EarlyStoppingCallback"
      ]
    },
    {
      "cell_type": "code",
      "execution_count": 8,
      "id": "9af7c9a8",
      "metadata": {
        "id": "9af7c9a8"
      },
      "outputs": [],
      "source": [
        "from sklearn import (\n",
        "    decomposition,\n",
        "    ensemble,\n",
        "    feature_extraction,\n",
        "    linear_model,\n",
        "    metrics,\n",
        "    model_selection,\n",
        "    naive_bayes,\n",
        "    pipeline,\n",
        ")\n",
        "from tqdm.notebook import tqdm"
      ]
    },
    {
      "cell_type": "code",
      "execution_count": 9,
      "id": "c41afce5",
      "metadata": {
        "colab": {
          "base_uri": "https://localhost:8080/"
        },
        "id": "c41afce5",
        "outputId": "58a8b484-c1b3-4941-cd81-a982bb598175"
      },
      "outputs": [
        {
          "output_type": "stream",
          "name": "stdout",
          "text": [
            "cuda:0\n"
          ]
        }
      ],
      "source": [
        "warnings.filterwarnings('ignore')\n",
        "\n",
        "sns.set_style(\"darkgrid\")\n",
        "sns.set_context(\"notebook\")\n",
        "\n",
        "tqdm.pandas()\n",
        "\n",
        "%config InlineBackend.figure_format=\"retina\"  # For high DPI display\n",
        "device = \"cuda:0\" if torch.cuda.is_available() else \"cpu\"\n",
        "print(device)\n",
        "\n",
        "plt.rcParams['figure.dpi'] = 90\n",
        "plt.rcParams['figure.figsize'] = (11, 7)\n",
        "\n",
        "%config InlineBackend.figure_format=\"retina\"  # For high DPI display\n",
        "\n",
        "load()"
      ]
    },
    {
      "cell_type": "markdown",
      "id": "f5442840",
      "metadata": {
        "id": "f5442840"
      },
      "source": [
        "# Load dataset"
      ]
    },
    {
      "cell_type": "code",
      "execution_count": 10,
      "id": "v5Zmui6c4eKA",
      "metadata": {
        "id": "v5Zmui6c4eKA"
      },
      "outputs": [],
      "source": [
        "PATH_TO_PROJECT = './drive/MyDrive/TER at INRIA/'"
      ]
    },
    {
      "cell_type": "code",
      "execution_count": 11,
      "id": "ot5CBFXtuG3p",
      "metadata": {
        "id": "ot5CBFXtuG3p"
      },
      "outputs": [],
      "source": [
        "df_det = pd.read_csv(PATH_TO_PROJECT + 'datasets para colab/dataset_deteccion_misoginia.csv')\n",
        "df_iber = pd.read_csv(PATH_TO_PROJECT + 'datasets para colab/dataset_ibereval.csv')\n",
        "df_mis = pd.read_csv(PATH_TO_PROJECT + 'datasets para colab/dataset_miscorpus.csv')\n",
        "\n",
        "df = pd.concat([df_det, df_iber, df_mis], axis=0)\n",
        "df.reset_index(drop=True, inplace=True)"
      ]
    },
    {
      "cell_type": "code",
      "execution_count": 12,
      "id": "y5ZEZBOTu1QA",
      "metadata": {
        "colab": {
          "base_uri": "https://localhost:8080/",
          "height": 424
        },
        "id": "y5ZEZBOTu1QA",
        "outputId": "ac600679-3689-48c2-dad2-a2911dfe7b32"
      },
      "outputs": [
        {
          "output_type": "execute_result",
          "data": {
            "text/plain": [
              "                                                    text        dataset  \\\n",
              "0       tu mamá la chismosa pinché vieja de Torreón @...  det_misoginia   \n",
              "1      \"Presidenta del sindicato de mamás luchonas\" E...  det_misoginia   \n",
              "2      \"Weeey nosotros somos el virus ??\" pues órale ...  det_misoginia   \n",
              "3      \"ya sé mucho de ese tema y tengo clarito todo ...  det_misoginia   \n",
              "4      #JuegoSurvivor Todos los Alcones me cagan, bol...  det_misoginia   \n",
              "...                                                  ...            ...   \n",
              "12877  @raquelmad16_97 Porque el sexo como categoría ...      miscorpus   \n",
              "12878  @InesArrimadas Y este hijo de puta le estamos ...      miscorpus   \n",
              "12879  Acaso me falta información, criterio o sentido...      miscorpus   \n",
              "12880  La #CumbredelClima en cuatro claves: Greta, lo...      miscorpus   \n",
              "12881  @___Pablinho___ @_AntiPurge @Santi_ABASCAL @eh...      miscorpus   \n",
              "\n",
              "       label variation  \n",
              "0          1     latam  \n",
              "1          1     latam  \n",
              "2          1     latam  \n",
              "3          1     latam  \n",
              "4          1     latam  \n",
              "...      ...       ...  \n",
              "12877      0     mixed  \n",
              "12878      0    europe  \n",
              "12879      0    europe  \n",
              "12880      0     mixed  \n",
              "12881      0     mixed  \n",
              "\n",
              "[12882 rows x 4 columns]"
            ],
            "text/html": [
              "\n",
              "  <div id=\"df-8cb12b09-250a-407d-bcfe-6765ba9b2dc1\">\n",
              "    <div class=\"colab-df-container\">\n",
              "      <div>\n",
              "<style scoped>\n",
              "    .dataframe tbody tr th:only-of-type {\n",
              "        vertical-align: middle;\n",
              "    }\n",
              "\n",
              "    .dataframe tbody tr th {\n",
              "        vertical-align: top;\n",
              "    }\n",
              "\n",
              "    .dataframe thead th {\n",
              "        text-align: right;\n",
              "    }\n",
              "</style>\n",
              "<table border=\"1\" class=\"dataframe\">\n",
              "  <thead>\n",
              "    <tr style=\"text-align: right;\">\n",
              "      <th></th>\n",
              "      <th>text</th>\n",
              "      <th>dataset</th>\n",
              "      <th>label</th>\n",
              "      <th>variation</th>\n",
              "    </tr>\n",
              "  </thead>\n",
              "  <tbody>\n",
              "    <tr>\n",
              "      <th>0</th>\n",
              "      <td>tu mamá la chismosa pinché vieja de Torreón @...</td>\n",
              "      <td>det_misoginia</td>\n",
              "      <td>1</td>\n",
              "      <td>latam</td>\n",
              "    </tr>\n",
              "    <tr>\n",
              "      <th>1</th>\n",
              "      <td>\"Presidenta del sindicato de mamás luchonas\" E...</td>\n",
              "      <td>det_misoginia</td>\n",
              "      <td>1</td>\n",
              "      <td>latam</td>\n",
              "    </tr>\n",
              "    <tr>\n",
              "      <th>2</th>\n",
              "      <td>\"Weeey nosotros somos el virus ??\" pues órale ...</td>\n",
              "      <td>det_misoginia</td>\n",
              "      <td>1</td>\n",
              "      <td>latam</td>\n",
              "    </tr>\n",
              "    <tr>\n",
              "      <th>3</th>\n",
              "      <td>\"ya sé mucho de ese tema y tengo clarito todo ...</td>\n",
              "      <td>det_misoginia</td>\n",
              "      <td>1</td>\n",
              "      <td>latam</td>\n",
              "    </tr>\n",
              "    <tr>\n",
              "      <th>4</th>\n",
              "      <td>#JuegoSurvivor Todos los Alcones me cagan, bol...</td>\n",
              "      <td>det_misoginia</td>\n",
              "      <td>1</td>\n",
              "      <td>latam</td>\n",
              "    </tr>\n",
              "    <tr>\n",
              "      <th>...</th>\n",
              "      <td>...</td>\n",
              "      <td>...</td>\n",
              "      <td>...</td>\n",
              "      <td>...</td>\n",
              "    </tr>\n",
              "    <tr>\n",
              "      <th>12877</th>\n",
              "      <td>@raquelmad16_97 Porque el sexo como categoría ...</td>\n",
              "      <td>miscorpus</td>\n",
              "      <td>0</td>\n",
              "      <td>mixed</td>\n",
              "    </tr>\n",
              "    <tr>\n",
              "      <th>12878</th>\n",
              "      <td>@InesArrimadas Y este hijo de puta le estamos ...</td>\n",
              "      <td>miscorpus</td>\n",
              "      <td>0</td>\n",
              "      <td>europe</td>\n",
              "    </tr>\n",
              "    <tr>\n",
              "      <th>12879</th>\n",
              "      <td>Acaso me falta información, criterio o sentido...</td>\n",
              "      <td>miscorpus</td>\n",
              "      <td>0</td>\n",
              "      <td>europe</td>\n",
              "    </tr>\n",
              "    <tr>\n",
              "      <th>12880</th>\n",
              "      <td>La #CumbredelClima en cuatro claves: Greta, lo...</td>\n",
              "      <td>miscorpus</td>\n",
              "      <td>0</td>\n",
              "      <td>mixed</td>\n",
              "    </tr>\n",
              "    <tr>\n",
              "      <th>12881</th>\n",
              "      <td>@___Pablinho___ @_AntiPurge @Santi_ABASCAL @eh...</td>\n",
              "      <td>miscorpus</td>\n",
              "      <td>0</td>\n",
              "      <td>mixed</td>\n",
              "    </tr>\n",
              "  </tbody>\n",
              "</table>\n",
              "<p>12882 rows × 4 columns</p>\n",
              "</div>\n",
              "      <button class=\"colab-df-convert\" onclick=\"convertToInteractive('df-8cb12b09-250a-407d-bcfe-6765ba9b2dc1')\"\n",
              "              title=\"Convert this dataframe to an interactive table.\"\n",
              "              style=\"display:none;\">\n",
              "        \n",
              "  <svg xmlns=\"http://www.w3.org/2000/svg\" height=\"24px\"viewBox=\"0 0 24 24\"\n",
              "       width=\"24px\">\n",
              "    <path d=\"M0 0h24v24H0V0z\" fill=\"none\"/>\n",
              "    <path d=\"M18.56 5.44l.94 2.06.94-2.06 2.06-.94-2.06-.94-.94-2.06-.94 2.06-2.06.94zm-11 1L8.5 8.5l.94-2.06 2.06-.94-2.06-.94L8.5 2.5l-.94 2.06-2.06.94zm10 10l.94 2.06.94-2.06 2.06-.94-2.06-.94-.94-2.06-.94 2.06-2.06.94z\"/><path d=\"M17.41 7.96l-1.37-1.37c-.4-.4-.92-.59-1.43-.59-.52 0-1.04.2-1.43.59L10.3 9.45l-7.72 7.72c-.78.78-.78 2.05 0 2.83L4 21.41c.39.39.9.59 1.41.59.51 0 1.02-.2 1.41-.59l7.78-7.78 2.81-2.81c.8-.78.8-2.07 0-2.86zM5.41 20L4 18.59l7.72-7.72 1.47 1.35L5.41 20z\"/>\n",
              "  </svg>\n",
              "      </button>\n",
              "      \n",
              "  <style>\n",
              "    .colab-df-container {\n",
              "      display:flex;\n",
              "      flex-wrap:wrap;\n",
              "      gap: 12px;\n",
              "    }\n",
              "\n",
              "    .colab-df-convert {\n",
              "      background-color: #E8F0FE;\n",
              "      border: none;\n",
              "      border-radius: 50%;\n",
              "      cursor: pointer;\n",
              "      display: none;\n",
              "      fill: #1967D2;\n",
              "      height: 32px;\n",
              "      padding: 0 0 0 0;\n",
              "      width: 32px;\n",
              "    }\n",
              "\n",
              "    .colab-df-convert:hover {\n",
              "      background-color: #E2EBFA;\n",
              "      box-shadow: 0px 1px 2px rgba(60, 64, 67, 0.3), 0px 1px 3px 1px rgba(60, 64, 67, 0.15);\n",
              "      fill: #174EA6;\n",
              "    }\n",
              "\n",
              "    [theme=dark] .colab-df-convert {\n",
              "      background-color: #3B4455;\n",
              "      fill: #D2E3FC;\n",
              "    }\n",
              "\n",
              "    [theme=dark] .colab-df-convert:hover {\n",
              "      background-color: #434B5C;\n",
              "      box-shadow: 0px 1px 3px 1px rgba(0, 0, 0, 0.15);\n",
              "      filter: drop-shadow(0px 1px 2px rgba(0, 0, 0, 0.3));\n",
              "      fill: #FFFFFF;\n",
              "    }\n",
              "  </style>\n",
              "\n",
              "      <script>\n",
              "        const buttonEl =\n",
              "          document.querySelector('#df-8cb12b09-250a-407d-bcfe-6765ba9b2dc1 button.colab-df-convert');\n",
              "        buttonEl.style.display =\n",
              "          google.colab.kernel.accessAllowed ? 'block' : 'none';\n",
              "\n",
              "        async function convertToInteractive(key) {\n",
              "          const element = document.querySelector('#df-8cb12b09-250a-407d-bcfe-6765ba9b2dc1');\n",
              "          const dataTable =\n",
              "            await google.colab.kernel.invokeFunction('convertToInteractive',\n",
              "                                                     [key], {});\n",
              "          if (!dataTable) return;\n",
              "\n",
              "          const docLinkHtml = 'Like what you see? Visit the ' +\n",
              "            '<a target=\"_blank\" href=https://colab.research.google.com/notebooks/data_table.ipynb>data table notebook</a>'\n",
              "            + ' to learn more about interactive tables.';\n",
              "          element.innerHTML = '';\n",
              "          dataTable['output_type'] = 'display_data';\n",
              "          await google.colab.output.renderOutput(dataTable, element);\n",
              "          const docLink = document.createElement('div');\n",
              "          docLink.innerHTML = docLinkHtml;\n",
              "          element.appendChild(docLink);\n",
              "        }\n",
              "      </script>\n",
              "    </div>\n",
              "  </div>\n",
              "  "
            ]
          },
          "metadata": {},
          "execution_count": 12
        }
      ],
      "source": [
        "df"
      ]
    },
    {
      "cell_type": "code",
      "execution_count": 13,
      "id": "8OwWIK9X6xg-",
      "metadata": {
        "colab": {
          "base_uri": "https://localhost:8080/"
        },
        "id": "8OwWIK9X6xg-",
        "outputId": "d1a1fc5b-05c2-421d-bca0-2706be43fc33"
      },
      "outputs": [
        {
          "output_type": "execute_result",
          "data": {
            "text/plain": [
              "0    6504\n",
              "1    6378\n",
              "Name: label, dtype: int64"
            ]
          },
          "metadata": {},
          "execution_count": 13
        }
      ],
      "source": [
        "df.label.value_counts()"
      ]
    },
    {
      "cell_type": "markdown",
      "id": "408984bf",
      "metadata": {
        "id": "408984bf"
      },
      "source": [
        "# Data preprocessing"
      ]
    },
    {
      "cell_type": "code",
      "execution_count": 14,
      "id": "32774b74",
      "metadata": {
        "id": "32774b74"
      },
      "outputs": [],
      "source": [
        "def preprocess_text(text):\n",
        "    c_text = text\n",
        "    c_text = re.sub(' +', ' ', c_text)\n",
        "    c_text = re.sub(r'https?\\S+', 'url', c_text)\n",
        "    c_text = re.sub(r'@\\S+', '@user', c_text)\n",
        "    htags = re.findall( r'#\\w+\\S+?', c_text)\n",
        "    for tag in htags:\n",
        "        c_text = c_text.replace(tag, ' '.join(segment(tag)))\n",
        "    return c_text"
      ]
    },
    {
      "cell_type": "code",
      "execution_count": 15,
      "id": "24e93189",
      "metadata": {
        "colab": {
          "base_uri": "https://localhost:8080/"
        },
        "id": "24e93189",
        "outputId": "3c328db1-c3c1-47c9-d336-90f5c892a60f"
      },
      "outputs": [
        {
          "output_type": "execute_result",
          "data": {
            "text/plain": [
              "(12882, 4)"
            ]
          },
          "metadata": {},
          "execution_count": 15
        }
      ],
      "source": [
        "df.shape"
      ]
    },
    {
      "cell_type": "code",
      "execution_count": 16,
      "id": "36882840",
      "metadata": {
        "colab": {
          "base_uri": "https://localhost:8080/"
        },
        "id": "36882840",
        "outputId": "8ab27f79-e7a4-486a-b3f4-c1ff14318f8e"
      },
      "outputs": [
        {
          "output_type": "stream",
          "name": "stdout",
          "text": [
            "0    6504\n",
            "1    6378\n",
            "Name: label, dtype: int64\n"
          ]
        }
      ],
      "source": [
        "print(df.label.value_counts())"
      ]
    },
    {
      "cell_type": "code",
      "execution_count": 17,
      "id": "0c6aefb3",
      "metadata": {
        "id": "0c6aefb3"
      },
      "outputs": [],
      "source": [
        "df['clean_text'] = df.text.apply(lambda x: preprocess_text(x))"
      ]
    },
    {
      "cell_type": "code",
      "execution_count": 18,
      "id": "e5969d75",
      "metadata": {
        "colab": {
          "base_uri": "https://localhost:8080/",
          "height": 363
        },
        "id": "e5969d75",
        "outputId": "2e4893a5-17f6-4fd9-bded-9f0d25bac0c6"
      },
      "outputs": [
        {
          "output_type": "execute_result",
          "data": {
            "text/plain": [
              "                                                text        dataset  label  \\\n",
              "0   tu mamá la chismosa pinché vieja de Torreón @...  det_misoginia      1   \n",
              "1  \"Presidenta del sindicato de mamás luchonas\" E...  det_misoginia      1   \n",
              "2  \"Weeey nosotros somos el virus ??\" pues órale ...  det_misoginia      1   \n",
              "3  \"ya sé mucho de ese tema y tengo clarito todo ...  det_misoginia      1   \n",
              "4  #JuegoSurvivor Todos los Alcones me cagan, bol...  det_misoginia      1   \n",
              "5  #JuegoSurvivore cagan las mujeres de halcones ...  det_misoginia      1   \n",
              "6  #LadyCinepolis alguien que tenga una hija de l...  det_misoginia      1   \n",
              "7  #LadyComeGratis pinche vieja abusona d mierda ...  det_misoginia      1   \n",
              "8  #LadyComeGratis que poca madre! Eso no se vale...  det_misoginia      1   \n",
              "9  #ladycomegratis, alias Brenda Pardo Lemus, es ...  det_misoginia      1   \n",
              "\n",
              "  variation                                         clean_text  \n",
              "0     latam   tu mamá la chismosa pinché vieja de Torreón @...  \n",
              "1     latam  \"Presidenta del sindicato de mamás luchonas\" E...  \n",
              "2     latam  \"Weeey nosotros somos el virus ??\" pues órale ...  \n",
              "3     latam  \"ya sé mucho de ese tema y tengo clarito todo ...  \n",
              "4     latam  juego survivor Todos los Alcones me cagan, bol...  \n",
              "5     latam  juego survivor e cagan las mujeres de halcones...  \n",
              "6     latam  lady cine polis alguien que tenga una hija de ...  \n",
              "7     latam  lady come gratis pinche vieja abusona d mierda...  \n",
              "8     latam  lady come gratis que poca madre! Eso no se val...  \n",
              "9     latam  lady come gratis alias Brenda Pardo Lemus, es ...  "
            ],
            "text/html": [
              "\n",
              "  <div id=\"df-e1569d04-a9f8-49d9-8d23-a3cd6ab31404\">\n",
              "    <div class=\"colab-df-container\">\n",
              "      <div>\n",
              "<style scoped>\n",
              "    .dataframe tbody tr th:only-of-type {\n",
              "        vertical-align: middle;\n",
              "    }\n",
              "\n",
              "    .dataframe tbody tr th {\n",
              "        vertical-align: top;\n",
              "    }\n",
              "\n",
              "    .dataframe thead th {\n",
              "        text-align: right;\n",
              "    }\n",
              "</style>\n",
              "<table border=\"1\" class=\"dataframe\">\n",
              "  <thead>\n",
              "    <tr style=\"text-align: right;\">\n",
              "      <th></th>\n",
              "      <th>text</th>\n",
              "      <th>dataset</th>\n",
              "      <th>label</th>\n",
              "      <th>variation</th>\n",
              "      <th>clean_text</th>\n",
              "    </tr>\n",
              "  </thead>\n",
              "  <tbody>\n",
              "    <tr>\n",
              "      <th>0</th>\n",
              "      <td>tu mamá la chismosa pinché vieja de Torreón @...</td>\n",
              "      <td>det_misoginia</td>\n",
              "      <td>1</td>\n",
              "      <td>latam</td>\n",
              "      <td>tu mamá la chismosa pinché vieja de Torreón @...</td>\n",
              "    </tr>\n",
              "    <tr>\n",
              "      <th>1</th>\n",
              "      <td>\"Presidenta del sindicato de mamás luchonas\" E...</td>\n",
              "      <td>det_misoginia</td>\n",
              "      <td>1</td>\n",
              "      <td>latam</td>\n",
              "      <td>\"Presidenta del sindicato de mamás luchonas\" E...</td>\n",
              "    </tr>\n",
              "    <tr>\n",
              "      <th>2</th>\n",
              "      <td>\"Weeey nosotros somos el virus ??\" pues órale ...</td>\n",
              "      <td>det_misoginia</td>\n",
              "      <td>1</td>\n",
              "      <td>latam</td>\n",
              "      <td>\"Weeey nosotros somos el virus ??\" pues órale ...</td>\n",
              "    </tr>\n",
              "    <tr>\n",
              "      <th>3</th>\n",
              "      <td>\"ya sé mucho de ese tema y tengo clarito todo ...</td>\n",
              "      <td>det_misoginia</td>\n",
              "      <td>1</td>\n",
              "      <td>latam</td>\n",
              "      <td>\"ya sé mucho de ese tema y tengo clarito todo ...</td>\n",
              "    </tr>\n",
              "    <tr>\n",
              "      <th>4</th>\n",
              "      <td>#JuegoSurvivor Todos los Alcones me cagan, bol...</td>\n",
              "      <td>det_misoginia</td>\n",
              "      <td>1</td>\n",
              "      <td>latam</td>\n",
              "      <td>juego survivor Todos los Alcones me cagan, bol...</td>\n",
              "    </tr>\n",
              "    <tr>\n",
              "      <th>5</th>\n",
              "      <td>#JuegoSurvivore cagan las mujeres de halcones ...</td>\n",
              "      <td>det_misoginia</td>\n",
              "      <td>1</td>\n",
              "      <td>latam</td>\n",
              "      <td>juego survivor e cagan las mujeres de halcones...</td>\n",
              "    </tr>\n",
              "    <tr>\n",
              "      <th>6</th>\n",
              "      <td>#LadyCinepolis alguien que tenga una hija de l...</td>\n",
              "      <td>det_misoginia</td>\n",
              "      <td>1</td>\n",
              "      <td>latam</td>\n",
              "      <td>lady cine polis alguien que tenga una hija de ...</td>\n",
              "    </tr>\n",
              "    <tr>\n",
              "      <th>7</th>\n",
              "      <td>#LadyComeGratis pinche vieja abusona d mierda ...</td>\n",
              "      <td>det_misoginia</td>\n",
              "      <td>1</td>\n",
              "      <td>latam</td>\n",
              "      <td>lady come gratis pinche vieja abusona d mierda...</td>\n",
              "    </tr>\n",
              "    <tr>\n",
              "      <th>8</th>\n",
              "      <td>#LadyComeGratis que poca madre! Eso no se vale...</td>\n",
              "      <td>det_misoginia</td>\n",
              "      <td>1</td>\n",
              "      <td>latam</td>\n",
              "      <td>lady come gratis que poca madre! Eso no se val...</td>\n",
              "    </tr>\n",
              "    <tr>\n",
              "      <th>9</th>\n",
              "      <td>#ladycomegratis, alias Brenda Pardo Lemus, es ...</td>\n",
              "      <td>det_misoginia</td>\n",
              "      <td>1</td>\n",
              "      <td>latam</td>\n",
              "      <td>lady come gratis alias Brenda Pardo Lemus, es ...</td>\n",
              "    </tr>\n",
              "  </tbody>\n",
              "</table>\n",
              "</div>\n",
              "      <button class=\"colab-df-convert\" onclick=\"convertToInteractive('df-e1569d04-a9f8-49d9-8d23-a3cd6ab31404')\"\n",
              "              title=\"Convert this dataframe to an interactive table.\"\n",
              "              style=\"display:none;\">\n",
              "        \n",
              "  <svg xmlns=\"http://www.w3.org/2000/svg\" height=\"24px\"viewBox=\"0 0 24 24\"\n",
              "       width=\"24px\">\n",
              "    <path d=\"M0 0h24v24H0V0z\" fill=\"none\"/>\n",
              "    <path d=\"M18.56 5.44l.94 2.06.94-2.06 2.06-.94-2.06-.94-.94-2.06-.94 2.06-2.06.94zm-11 1L8.5 8.5l.94-2.06 2.06-.94-2.06-.94L8.5 2.5l-.94 2.06-2.06.94zm10 10l.94 2.06.94-2.06 2.06-.94-2.06-.94-.94-2.06-.94 2.06-2.06.94z\"/><path d=\"M17.41 7.96l-1.37-1.37c-.4-.4-.92-.59-1.43-.59-.52 0-1.04.2-1.43.59L10.3 9.45l-7.72 7.72c-.78.78-.78 2.05 0 2.83L4 21.41c.39.39.9.59 1.41.59.51 0 1.02-.2 1.41-.59l7.78-7.78 2.81-2.81c.8-.78.8-2.07 0-2.86zM5.41 20L4 18.59l7.72-7.72 1.47 1.35L5.41 20z\"/>\n",
              "  </svg>\n",
              "      </button>\n",
              "      \n",
              "  <style>\n",
              "    .colab-df-container {\n",
              "      display:flex;\n",
              "      flex-wrap:wrap;\n",
              "      gap: 12px;\n",
              "    }\n",
              "\n",
              "    .colab-df-convert {\n",
              "      background-color: #E8F0FE;\n",
              "      border: none;\n",
              "      border-radius: 50%;\n",
              "      cursor: pointer;\n",
              "      display: none;\n",
              "      fill: #1967D2;\n",
              "      height: 32px;\n",
              "      padding: 0 0 0 0;\n",
              "      width: 32px;\n",
              "    }\n",
              "\n",
              "    .colab-df-convert:hover {\n",
              "      background-color: #E2EBFA;\n",
              "      box-shadow: 0px 1px 2px rgba(60, 64, 67, 0.3), 0px 1px 3px 1px rgba(60, 64, 67, 0.15);\n",
              "      fill: #174EA6;\n",
              "    }\n",
              "\n",
              "    [theme=dark] .colab-df-convert {\n",
              "      background-color: #3B4455;\n",
              "      fill: #D2E3FC;\n",
              "    }\n",
              "\n",
              "    [theme=dark] .colab-df-convert:hover {\n",
              "      background-color: #434B5C;\n",
              "      box-shadow: 0px 1px 3px 1px rgba(0, 0, 0, 0.15);\n",
              "      filter: drop-shadow(0px 1px 2px rgba(0, 0, 0, 0.3));\n",
              "      fill: #FFFFFF;\n",
              "    }\n",
              "  </style>\n",
              "\n",
              "      <script>\n",
              "        const buttonEl =\n",
              "          document.querySelector('#df-e1569d04-a9f8-49d9-8d23-a3cd6ab31404 button.colab-df-convert');\n",
              "        buttonEl.style.display =\n",
              "          google.colab.kernel.accessAllowed ? 'block' : 'none';\n",
              "\n",
              "        async function convertToInteractive(key) {\n",
              "          const element = document.querySelector('#df-e1569d04-a9f8-49d9-8d23-a3cd6ab31404');\n",
              "          const dataTable =\n",
              "            await google.colab.kernel.invokeFunction('convertToInteractive',\n",
              "                                                     [key], {});\n",
              "          if (!dataTable) return;\n",
              "\n",
              "          const docLinkHtml = 'Like what you see? Visit the ' +\n",
              "            '<a target=\"_blank\" href=https://colab.research.google.com/notebooks/data_table.ipynb>data table notebook</a>'\n",
              "            + ' to learn more about interactive tables.';\n",
              "          element.innerHTML = '';\n",
              "          dataTable['output_type'] = 'display_data';\n",
              "          await google.colab.output.renderOutput(dataTable, element);\n",
              "          const docLink = document.createElement('div');\n",
              "          docLink.innerHTML = docLinkHtml;\n",
              "          element.appendChild(docLink);\n",
              "        }\n",
              "      </script>\n",
              "    </div>\n",
              "  </div>\n",
              "  "
            ]
          },
          "metadata": {},
          "execution_count": 18
        }
      ],
      "source": [
        "df.head(10)"
      ]
    },
    {
      "cell_type": "code",
      "source": [
        "df['variation'].value_counts()"
      ],
      "metadata": {
        "colab": {
          "base_uri": "https://localhost:8080/"
        },
        "id": "OOgU9VjoXwER",
        "outputId": "4f41828b-c730-4eb9-a67c-aa224f4acc79"
      },
      "id": "OOgU9VjoXwER",
      "execution_count": 19,
      "outputs": [
        {
          "output_type": "execute_result",
          "data": {
            "text/plain": [
              "mixed     6800\n",
              "latam     3596\n",
              "europe    2486\n",
              "Name: variation, dtype: int64"
            ]
          },
          "metadata": {},
          "execution_count": 19
        }
      ]
    },
    {
      "cell_type": "code",
      "execution_count": 20,
      "id": "a2ef197e",
      "metadata": {
        "id": "a2ef197e"
      },
      "outputs": [],
      "source": [
        "df_latam = df.loc[df['variation'] == 'latam']\n",
        "df_europe = df.loc[df['variation'] == 'europe']"
      ]
    },
    {
      "cell_type": "markdown",
      "id": "35c2d436",
      "metadata": {
        "id": "35c2d436"
      },
      "source": [
        "# Modeling"
      ]
    },
    {
      "cell_type": "markdown",
      "id": "GT0WGA1xAUUK",
      "metadata": {
        "id": "GT0WGA1xAUUK"
      },
      "source": [
        "### BETO Trained on LatAm data"
      ]
    },
    {
      "cell_type": "code",
      "execution_count": 20,
      "id": "204abe1b",
      "metadata": {
        "id": "204abe1b",
        "colab": {
          "base_uri": "https://localhost:8080/",
          "height": 145,
          "referenced_widgets": [
            "7763750b84c4457194beb528af472960",
            "f4286a831ad94d1d8e7c885b24bd6bb6",
            "283bce95cf604e77b3437280004d81c1",
            "d92a27a43532477ebea375a0c1b6f0ed",
            "3f55953d13c14fdba84a1b27e24e67af",
            "27d487251d9846018ea96b10e077c392",
            "1ea3fcb3b8b0453384c325ca18f148ad",
            "2a9e986d5778488ebe18eaf5dfd74dec",
            "637cd42fd1ea457d98f3564f49c9e392",
            "ef9316f130ed4920a32e3f156204c67f",
            "03074f8391844c95abe49152e650f77f",
            "64019783d27c4329b38524758de20424",
            "6fe10ed55c9342cb8ead880548f217d4",
            "9134d1f32a15434ca05532852794b717",
            "1a19cdb3d6e1477da90860720c57a5fb",
            "8dbe98e0db3a463c8fb3a8def4a14d29",
            "a0a52a32c2e24b6dbbcb1667ae4b20d8",
            "a50ba89a37a1435bac441d84d2c2bcaf",
            "10131adfec354d69906ae50e52785c72",
            "c60f678b8de04224be597403c339f65e",
            "4e0176c9d1444a0ea0d7b0fc9819128e",
            "7f99ea0abcee42dfa6f13f44e8103a30",
            "eb27abc0982b4ffa8eed5e71c669c4e3",
            "379b368b904b4e32b3e795f4ff3417ce",
            "d21d4b8900b44791a0de0d41576fd622",
            "604ea82cced841a8924439e0ac55883c",
            "ea9f65048835453994d374b6cb06de02",
            "b47b3c4943294fe8af243de3b9cd586e",
            "6ce3635cb9c441aabd6740f59da32fb5",
            "95dfaf225ad141c088908863cacea181",
            "f9843b269fb440d7bd1b32f9b1add49f",
            "6a3cd9981414464aa3a5ffd7ab6c7ed0",
            "edbfd6efe69c47128a81aa39a97cad55",
            "ce4ae0c99fb34444bb76a6c2809da3f7",
            "261461ebacb64b719a846b43834d9ebf",
            "2cd0dc91ece9435b823afb17257dc4f5",
            "97943fc3a9dd4c6bbb30252a55d8baf8",
            "995c7d488542413fab1fafa32fefbe8b",
            "950d3fa12cf14db29707859ac4db1fd5",
            "f54b665934634362912bffc4c821719e",
            "1a4c30528d784ff29941abda6619bef2",
            "2580d4ecbfa24eee81f79da3e37bf63d",
            "0b30bafefd874bd98a15cfa14ccfc04d",
            "6c5df5a7dad44931bb2cbdbdaa615f80"
          ]
        },
        "outputId": "71aee466-3753-44df-b3d8-ea11e44aaffc"
      },
      "outputs": [
        {
          "output_type": "display_data",
          "data": {
            "text/plain": [
              "Downloading:   0%|          | 0.00/236k [00:00<?, ?B/s]"
            ],
            "application/vnd.jupyter.widget-view+json": {
              "version_major": 2,
              "version_minor": 0,
              "model_id": "7763750b84c4457194beb528af472960"
            }
          },
          "metadata": {}
        },
        {
          "output_type": "display_data",
          "data": {
            "text/plain": [
              "Downloading:   0%|          | 0.00/134 [00:00<?, ?B/s]"
            ],
            "application/vnd.jupyter.widget-view+json": {
              "version_major": 2,
              "version_minor": 0,
              "model_id": "64019783d27c4329b38524758de20424"
            }
          },
          "metadata": {}
        },
        {
          "output_type": "display_data",
          "data": {
            "text/plain": [
              "Downloading:   0%|          | 0.00/364 [00:00<?, ?B/s]"
            ],
            "application/vnd.jupyter.widget-view+json": {
              "version_major": 2,
              "version_minor": 0,
              "model_id": "eb27abc0982b4ffa8eed5e71c669c4e3"
            }
          },
          "metadata": {}
        },
        {
          "output_type": "display_data",
          "data": {
            "text/plain": [
              "Downloading:   0%|          | 0.00/648 [00:00<?, ?B/s]"
            ],
            "application/vnd.jupyter.widget-view+json": {
              "version_major": 2,
              "version_minor": 0,
              "model_id": "ce4ae0c99fb34444bb76a6c2809da3f7"
            }
          },
          "metadata": {}
        }
      ],
      "source": [
        "PRE_TRAINED_MODEL_NAME = 'dccuchile/bert-base-spanish-wwm-cased'\n",
        "tokenizer = BertTokenizer.from_pretrained(PRE_TRAINED_MODEL_NAME)"
      ]
    },
    {
      "cell_type": "code",
      "execution_count": 21,
      "id": "fOnH1439z0Bg",
      "metadata": {
        "colab": {
          "base_uri": "https://localhost:8080/",
          "height": 156,
          "referenced_widgets": [
            "1f350d187c5e4e7b93e8471cc204ac88",
            "787df1f830f24b05baf7e4d84738a821",
            "675e56300d624bc598148ef46cdee88f",
            "dbf30150762a48e2abee333d3d7ecb83",
            "cfe3c0ff147349fd83e06c4709d8908d",
            "b2b178bf516940059b9b61afd8221baa",
            "0e3496c067094a95bdccfb38abd80a9e",
            "fcf4c59781b44f0282cec636a8d0d18a",
            "e97a210bc75242a9b2716cf7da02041d",
            "6f0da71922bb4d959c2a1f42cd34157a",
            "1074b8bb5c644367a027885bf52fc89e"
          ]
        },
        "id": "fOnH1439z0Bg",
        "outputId": "8e021b96-6c0f-4da5-8efc-0567b2e594a4"
      },
      "outputs": [
        {
          "output_type": "display_data",
          "data": {
            "text/plain": [
              "Downloading:   0%|          | 0.00/419M [00:00<?, ?B/s]"
            ],
            "application/vnd.jupyter.widget-view+json": {
              "version_major": 2,
              "version_minor": 0,
              "model_id": "1f350d187c5e4e7b93e8471cc204ac88"
            }
          },
          "metadata": {}
        },
        {
          "output_type": "stream",
          "name": "stderr",
          "text": [
            "Some weights of the model checkpoint at dccuchile/bert-base-spanish-wwm-cased were not used when initializing BertForSequenceClassification: ['cls.predictions.decoder.bias', 'cls.predictions.transform.LayerNorm.bias', 'cls.predictions.transform.dense.bias', 'cls.predictions.bias', 'cls.predictions.decoder.weight', 'cls.predictions.transform.dense.weight', 'cls.predictions.transform.LayerNorm.weight']\n",
            "- This IS expected if you are initializing BertForSequenceClassification from the checkpoint of a model trained on another task or with another architecture (e.g. initializing a BertForSequenceClassification model from a BertForPreTraining model).\n",
            "- This IS NOT expected if you are initializing BertForSequenceClassification from the checkpoint of a model that you expect to be exactly identical (initializing a BertForSequenceClassification model from a BertForSequenceClassification model).\n",
            "Some weights of BertForSequenceClassification were not initialized from the model checkpoint at dccuchile/bert-base-spanish-wwm-cased and are newly initialized: ['bert.pooler.dense.bias', 'classifier.weight', 'classifier.bias', 'bert.pooler.dense.weight']\n",
            "You should probably TRAIN this model on a down-stream task to be able to use it for predictions and inference.\n"
          ]
        }
      ],
      "source": [
        "model = BertForSequenceClassification.from_pretrained(PRE_TRAINED_MODEL_NAME, num_labels=2)"
      ]
    },
    {
      "cell_type": "code",
      "execution_count": 22,
      "id": "6ab4c893",
      "metadata": {
        "id": "6ab4c893"
      },
      "outputs": [],
      "source": [
        "train_df_latam, test_df_latam = model_selection.train_test_split(\n",
        "    df_latam, test_size=0.30, random_state=1\n",
        ")\n",
        "\n",
        "train_df_europe, test_df_europe = model_selection.train_test_split(\n",
        "    df_europe, test_size=0.30, random_state=1\n",
        ")"
      ]
    },
    {
      "cell_type": "code",
      "source": [
        "df_europe.label.value_counts(normalize=True)"
      ],
      "metadata": {
        "colab": {
          "base_uri": "https://localhost:8080/"
        },
        "id": "93NLINITrRfm",
        "outputId": "e50819dc-2b2d-4572-9a08-f88b566bf9b3"
      },
      "id": "93NLINITrRfm",
      "execution_count": 32,
      "outputs": [
        {
          "output_type": "execute_result",
          "data": {
            "text/plain": [
              "1    0.518504\n",
              "0    0.481496\n",
              "Name: label, dtype: float64"
            ]
          },
          "metadata": {},
          "execution_count": 32
        }
      ]
    },
    {
      "cell_type": "code",
      "source": [
        "df_latam.label.value_counts(normalize=True)"
      ],
      "metadata": {
        "colab": {
          "base_uri": "https://localhost:8080/"
        },
        "id": "3OH4w8nyrYFt",
        "outputId": "3a363d12-be5c-4daa-ee26-f5d37b2e42f4"
      },
      "id": "3OH4w8nyrYFt",
      "execution_count": 33,
      "outputs": [
        {
          "output_type": "execute_result",
          "data": {
            "text/plain": [
              "1    0.616796\n",
              "0    0.383204\n",
              "Name: label, dtype: float64"
            ]
          },
          "metadata": {},
          "execution_count": 33
        }
      ]
    },
    {
      "cell_type": "code",
      "execution_count": null,
      "id": "2f7cc126",
      "metadata": {
        "colab": {
          "base_uri": "https://localhost:8080/"
        },
        "id": "2f7cc126",
        "outputId": "29e15cf9-ef8f-4018-f14e-cc1ccf0bba47"
      },
      "outputs": [
        {
          "output_type": "stream",
          "name": "stdout",
          "text": [
            "Latam train: (2517, 5) \tLatam test: (1079, 5)\n",
            "Europe train: (1740, 5) \tEurope test: (746, 5)\n"
          ]
        }
      ],
      "source": [
        "print('Latam train:', train_df_latam.shape, '\\tLatam test:', test_df_latam.shape)\n",
        "print('Europe train:', train_df_europe.shape, '\\tEurope test:', test_df_europe.shape)"
      ]
    },
    {
      "cell_type": "code",
      "execution_count": null,
      "id": "3e7d720e",
      "metadata": {
        "id": "3e7d720e"
      },
      "outputs": [],
      "source": [
        "train_df_latam = train_df_latam.sample(n=train_df_europe.shape[0], replace=False, random_state=0)\n",
        "test_df_latam = test_df_latam.sample(n=test_df_europe.shape[0], replace=False, random_state=0)"
      ]
    },
    {
      "cell_type": "code",
      "execution_count": null,
      "id": "0232d2e9",
      "metadata": {
        "colab": {
          "base_uri": "https://localhost:8080/"
        },
        "id": "0232d2e9",
        "outputId": "d4d19d4a-5b22-4883-ee2c-06df2eccb1a4"
      },
      "outputs": [
        {
          "output_type": "stream",
          "name": "stdout",
          "text": [
            "Latam train: (1740, 5) \tLatam test: (746, 5)\n",
            "Europe train: (1740, 5) \tEurope test: (746, 5)\n"
          ]
        }
      ],
      "source": [
        "print('Latam train:', train_df_latam.shape, '\\tLatam test:', test_df_latam.shape)\n",
        "print('Europe train:', train_df_europe.shape, '\\tEurope test:', test_df_europe.shape)"
      ]
    },
    {
      "cell_type": "code",
      "execution_count": null,
      "id": "WXFrtYI8xI8u",
      "metadata": {
        "id": "WXFrtYI8xI8u"
      },
      "outputs": [],
      "source": [
        "X_train_latam, X_val_latam, y_train_latam, y_val_latam = model_selection.train_test_split(train_df_latam.clean_text, train_df_latam.label, test_size=0.2, random_state=1)"
      ]
    },
    {
      "cell_type": "code",
      "execution_count": null,
      "id": "6143b327",
      "metadata": {
        "colab": {
          "base_uri": "https://localhost:8080/"
        },
        "id": "6143b327",
        "outputId": "286a2e9b-4d9f-4d77-c421-cc9de03c69a2"
      },
      "outputs": [
        {
          "output_type": "stream",
          "name": "stdout",
          "text": [
            " Sentence: juego survivor e cagan las mujeres de halcones de todo se quejan así son los juegos mejor no hubieran ido cuando ellas hacen algo porque no se quejan solo lo que les conviene Cara aburrida\n",
            "   Tokens: ['juego', 'sur', '##vi', '##vor', 'e', 'ca', '##gan', 'las', 'mujeres', 'de', 'hal', '##cones', 'de', 'todo', 'se', 'queja', '##n', 'así', 'son', 'los', 'juegos', 'mejor', 'no', 'hubieran', 'ido', 'cuando', 'ellas', 'hacen', 'algo', 'porque', 'no', 'se', 'queja', '##n', 'solo', 'lo', 'que', 'les', 'conviene', 'Cara', 'aburrida']\n",
            "Token IDs: [3343, 2902, 1128, 11198, 1007, 1285, 1362, 1089, 2409, 1008, 5440, 19895, 1008, 1397, 1062, 15113, 30935, 1506, 1404, 1065, 6832, 1627, 1084, 10358, 4485, 1486, 3878, 3818, 1513, 1817, 1084, 1062, 15113, 30935, 1942, 1114, 1038, 2027, 12133, 6325, 24037]\n"
          ]
        }
      ],
      "source": [
        "sample_txt = X_train_latam.iloc[5]\n",
        "\n",
        "tokens = tokenizer.tokenize(sample_txt)\n",
        "token_ids = tokenizer.convert_tokens_to_ids(tokens)\n",
        "\n",
        "print(f' Sentence: {sample_txt}')\n",
        "print(f'   Tokens: {tokens}')\n",
        "print(f'Token IDs: {token_ids}')"
      ]
    },
    {
      "cell_type": "code",
      "execution_count": null,
      "id": "adbc3b9d",
      "metadata": {
        "id": "adbc3b9d"
      },
      "outputs": [],
      "source": [
        "MAX_LENGTH = 512"
      ]
    },
    {
      "cell_type": "code",
      "execution_count": null,
      "id": "X7jtz_YexzY7",
      "metadata": {
        "id": "X7jtz_YexzY7"
      },
      "outputs": [],
      "source": [
        "X_train_tokenized = tokenizer(list(X_train_latam), padding=True, truncation=True, max_length=MAX_LENGTH)\n",
        "X_val_tokenized = tokenizer(list(X_val_latam), padding=True, truncation=True, max_length=MAX_LENGTH)"
      ]
    },
    {
      "cell_type": "code",
      "execution_count": null,
      "id": "VQddL1dryWh6",
      "metadata": {
        "id": "VQddL1dryWh6"
      },
      "outputs": [],
      "source": [
        "# Create torch dataset\n",
        "class Dataset(torch.utils.data.Dataset):\n",
        "    def __init__(self, encodings, labels=None):\n",
        "        self.encodings = encodings\n",
        "        self.labels = labels\n",
        "\n",
        "    def __getitem__(self, idx):\n",
        "        item = {key: torch.tensor(val[idx]) for key, val in self.encodings.items()}\n",
        "        if self.labels:\n",
        "            item[\"labels\"] = torch.tensor(self.labels[idx])\n",
        "        return item\n",
        "\n",
        "    def __len__(self):\n",
        "        return len(self.encodings[\"input_ids\"])"
      ]
    },
    {
      "cell_type": "code",
      "execution_count": null,
      "id": "R6FHhULNyWe-",
      "metadata": {
        "id": "R6FHhULNyWe-"
      },
      "outputs": [],
      "source": [
        "train_dataset = Dataset(X_train_tokenized, list(y_train_latam))\n",
        "val_dataset = Dataset(X_val_tokenized, list(y_val_latam))"
      ]
    },
    {
      "cell_type": "code",
      "execution_count": null,
      "id": "msEDfb1RyWZK",
      "metadata": {
        "id": "msEDfb1RyWZK"
      },
      "outputs": [],
      "source": [
        "def compute_metrics(p):\n",
        "    pred, labels = p\n",
        "    pred = np.argmax(pred, axis=1)\n",
        "    f1 = metrics.f1_score(y_true=labels, y_pred=pred, average='macro')\n",
        "    return {\"f1_macro\": f1}"
      ]
    },
    {
      "cell_type": "code",
      "execution_count": null,
      "id": "oH9xbrHXyWWK",
      "metadata": {
        "id": "oH9xbrHXyWWK"
      },
      "outputs": [],
      "source": [
        "# Define Trainer\n",
        "args = TrainingArguments(\n",
        "    output_dir=PATH_TO_PROJECT + \"outputs_colab/beto_latam\",\n",
        "    evaluation_strategy='epoch',\n",
        "    num_train_epochs=5,\n",
        "    seed=0,\n",
        "    load_best_model_at_end=True,\n",
        "    logging_strategy='epoch',\n",
        "    save_strategy='epoch',\n",
        "    metric_for_best_model='eval_f1_macro',\n",
        "    greater_is_better=True,\n",
        "    report_to=\"wandb\",\n",
        "    run_name='BETO LatAm Fixed'\n",
        ")"
      ]
    },
    {
      "cell_type": "code",
      "execution_count": null,
      "id": "fCAfmNtHyWSj",
      "metadata": {
        "id": "fCAfmNtHyWSj"
      },
      "outputs": [],
      "source": [
        "trainer = Trainer(\n",
        "    model=model,\n",
        "    args=args,\n",
        "    train_dataset=train_dataset,\n",
        "    eval_dataset=val_dataset,\n",
        "    compute_metrics=compute_metrics\n",
        ")"
      ]
    },
    {
      "cell_type": "markdown",
      "id": "YaPFB2xwa6WZ",
      "metadata": {
        "id": "YaPFB2xwa6WZ"
      },
      "source": [
        "API Key: 327c6e1124de6e2165aa7b8c4e195dae9689ad33"
      ]
    },
    {
      "cell_type": "code",
      "execution_count": null,
      "id": "Gyo1TEf9yWO7",
      "metadata": {
        "colab": {
          "base_uri": "https://localhost:8080/",
          "height": 1000
        },
        "id": "Gyo1TEf9yWO7",
        "outputId": "f0256576-bfd1-41b6-b9d7-023aba5ce77c"
      },
      "outputs": [
        {
          "output_type": "stream",
          "name": "stderr",
          "text": [
            "***** Running training *****\n",
            "  Num examples = 1392\n",
            "  Num Epochs = 5\n",
            "  Instantaneous batch size per device = 8\n",
            "  Total train batch size (w. parallel, distributed & accumulation) = 8\n",
            "  Gradient Accumulation steps = 1\n",
            "  Total optimization steps = 870\n",
            "Automatic Weights & Biases logging enabled, to disable set os.environ[\"WANDB_DISABLED\"] = \"true\"\n"
          ]
        },
        {
          "output_type": "display_data",
          "data": {
            "text/plain": [
              "<IPython.core.display.Javascript object>"
            ],
            "application/javascript": [
              "\n",
              "        window._wandbApiKey = new Promise((resolve, reject) => {\n",
              "            function loadScript(url) {\n",
              "            return new Promise(function(resolve, reject) {\n",
              "                let newScript = document.createElement(\"script\");\n",
              "                newScript.onerror = reject;\n",
              "                newScript.onload = resolve;\n",
              "                document.body.appendChild(newScript);\n",
              "                newScript.src = url;\n",
              "            });\n",
              "            }\n",
              "            loadScript(\"https://cdn.jsdelivr.net/npm/postmate/build/postmate.min.js\").then(() => {\n",
              "            const iframe = document.createElement('iframe')\n",
              "            iframe.style.cssText = \"width:0;height:0;border:none\"\n",
              "            document.body.appendChild(iframe)\n",
              "            const handshake = new Postmate({\n",
              "                container: iframe,\n",
              "                url: 'https://wandb.ai/authorize'\n",
              "            });\n",
              "            const timeout = setTimeout(() => reject(\"Couldn't auto authenticate\"), 5000)\n",
              "            handshake.then(function(child) {\n",
              "                child.on('authorize', data => {\n",
              "                    clearTimeout(timeout)\n",
              "                    resolve(data)\n",
              "                });\n",
              "            });\n",
              "            })\n",
              "        });\n",
              "    "
            ]
          },
          "metadata": {}
        },
        {
          "output_type": "stream",
          "name": "stderr",
          "text": [
            "\u001b[34m\u001b[1mwandb\u001b[0m: Appending key for api.wandb.ai to your netrc file: /root/.netrc\n"
          ]
        },
        {
          "output_type": "display_data",
          "data": {
            "text/plain": [
              "<IPython.core.display.HTML object>"
            ],
            "text/html": [
              "Tracking run with wandb version 0.12.11"
            ]
          },
          "metadata": {}
        },
        {
          "output_type": "display_data",
          "data": {
            "text/plain": [
              "<IPython.core.display.HTML object>"
            ],
            "text/html": [
              "Run data is saved locally in <code>/content/wandb/run-20220316_031802-3ub4tnsk</code>"
            ]
          },
          "metadata": {}
        },
        {
          "output_type": "display_data",
          "data": {
            "text/plain": [
              "<IPython.core.display.HTML object>"
            ],
            "text/html": [
              "Syncing run <strong><a href=\"https://wandb.ai/gaalocastillo/huggingface/runs/3ub4tnsk\" target=\"_blank\">BETO LatAm Fixed</a></strong> to <a href=\"https://wandb.ai/gaalocastillo/huggingface\" target=\"_blank\">Weights & Biases</a> (<a href=\"https://wandb.me/run\" target=\"_blank\">docs</a>)<br/>"
            ]
          },
          "metadata": {}
        },
        {
          "output_type": "display_data",
          "data": {
            "text/plain": [
              "<IPython.core.display.HTML object>"
            ],
            "text/html": [
              "\n",
              "    <div>\n",
              "      \n",
              "      <progress value='870' max='870' style='width:300px; height:20px; vertical-align: middle;'></progress>\n",
              "      [870/870 06:40, Epoch 5/5]\n",
              "    </div>\n",
              "    <table border=\"1\" class=\"dataframe\">\n",
              "  <thead>\n",
              " <tr style=\"text-align: left;\">\n",
              "      <th>Epoch</th>\n",
              "      <th>Training Loss</th>\n",
              "      <th>Validation Loss</th>\n",
              "      <th>F1 Macro</th>\n",
              "    </tr>\n",
              "  </thead>\n",
              "  <tbody>\n",
              "    <tr>\n",
              "      <td>1</td>\n",
              "      <td>0.551900</td>\n",
              "      <td>0.500911</td>\n",
              "      <td>0.753533</td>\n",
              "    </tr>\n",
              "    <tr>\n",
              "      <td>2</td>\n",
              "      <td>0.351900</td>\n",
              "      <td>0.603167</td>\n",
              "      <td>0.816808</td>\n",
              "    </tr>\n",
              "    <tr>\n",
              "      <td>3</td>\n",
              "      <td>0.142900</td>\n",
              "      <td>0.881501</td>\n",
              "      <td>0.785474</td>\n",
              "    </tr>\n",
              "    <tr>\n",
              "      <td>4</td>\n",
              "      <td>0.051600</td>\n",
              "      <td>1.090711</td>\n",
              "      <td>0.795859</td>\n",
              "    </tr>\n",
              "    <tr>\n",
              "      <td>5</td>\n",
              "      <td>0.015000</td>\n",
              "      <td>1.088588</td>\n",
              "      <td>0.798093</td>\n",
              "    </tr>\n",
              "  </tbody>\n",
              "</table><p>"
            ]
          },
          "metadata": {}
        },
        {
          "output_type": "stream",
          "name": "stderr",
          "text": [
            "***** Running Evaluation *****\n",
            "  Num examples = 348\n",
            "  Batch size = 8\n",
            "Saving model checkpoint to ./drive/MyDrive/TER at INRIA/outputs_colab/beto_latam/checkpoint-174\n",
            "Configuration saved in ./drive/MyDrive/TER at INRIA/outputs_colab/beto_latam/checkpoint-174/config.json\n",
            "Model weights saved in ./drive/MyDrive/TER at INRIA/outputs_colab/beto_latam/checkpoint-174/pytorch_model.bin\n",
            "***** Running Evaluation *****\n",
            "  Num examples = 348\n",
            "  Batch size = 8\n",
            "Saving model checkpoint to ./drive/MyDrive/TER at INRIA/outputs_colab/beto_latam/checkpoint-348\n",
            "Configuration saved in ./drive/MyDrive/TER at INRIA/outputs_colab/beto_latam/checkpoint-348/config.json\n",
            "Model weights saved in ./drive/MyDrive/TER at INRIA/outputs_colab/beto_latam/checkpoint-348/pytorch_model.bin\n",
            "***** Running Evaluation *****\n",
            "  Num examples = 348\n",
            "  Batch size = 8\n",
            "Saving model checkpoint to ./drive/MyDrive/TER at INRIA/outputs_colab/beto_latam/checkpoint-522\n",
            "Configuration saved in ./drive/MyDrive/TER at INRIA/outputs_colab/beto_latam/checkpoint-522/config.json\n",
            "Model weights saved in ./drive/MyDrive/TER at INRIA/outputs_colab/beto_latam/checkpoint-522/pytorch_model.bin\n",
            "***** Running Evaluation *****\n",
            "  Num examples = 348\n",
            "  Batch size = 8\n",
            "Saving model checkpoint to ./drive/MyDrive/TER at INRIA/outputs_colab/beto_latam/checkpoint-696\n",
            "Configuration saved in ./drive/MyDrive/TER at INRIA/outputs_colab/beto_latam/checkpoint-696/config.json\n",
            "Model weights saved in ./drive/MyDrive/TER at INRIA/outputs_colab/beto_latam/checkpoint-696/pytorch_model.bin\n",
            "***** Running Evaluation *****\n",
            "  Num examples = 348\n",
            "  Batch size = 8\n",
            "Saving model checkpoint to ./drive/MyDrive/TER at INRIA/outputs_colab/beto_latam/checkpoint-870\n",
            "Configuration saved in ./drive/MyDrive/TER at INRIA/outputs_colab/beto_latam/checkpoint-870/config.json\n",
            "Model weights saved in ./drive/MyDrive/TER at INRIA/outputs_colab/beto_latam/checkpoint-870/pytorch_model.bin\n",
            "\n",
            "\n",
            "Training completed. Do not forget to share your model on huggingface.co/models =)\n",
            "\n",
            "\n",
            "Loading best model from ./drive/MyDrive/TER at INRIA/outputs_colab/beto_latam/checkpoint-348 (score: 0.8168077873642698).\n"
          ]
        }
      ],
      "source": [
        "# Train pre-trained model\n",
        "train_results = trainer.train()"
      ]
    },
    {
      "cell_type": "code",
      "execution_count": null,
      "id": "l1DircrY9izZ",
      "metadata": {
        "colab": {
          "base_uri": "https://localhost:8080/",
          "height": 106
        },
        "id": "l1DircrY9izZ",
        "outputId": "064d4019-ea14-41da-8a04-2f26d9a8445c"
      },
      "outputs": [
        {
          "output_type": "stream",
          "name": "stderr",
          "text": [
            "***** Running Evaluation *****\n",
            "  Num examples = 348\n",
            "  Batch size = 8\n"
          ]
        },
        {
          "output_type": "display_data",
          "data": {
            "text/plain": [
              "<IPython.core.display.HTML object>"
            ],
            "text/html": [
              "\n",
              "    <div>\n",
              "      \n",
              "      <progress value='44' max='44' style='width:300px; height:20px; vertical-align: middle;'></progress>\n",
              "      [44/44 00:04]\n",
              "    </div>\n",
              "    "
            ]
          },
          "metadata": {}
        },
        {
          "output_type": "stream",
          "name": "stdout",
          "text": [
            "{'eval_loss': 0.6031667590141296, 'eval_f1_macro': 0.8168077873642698, 'eval_runtime': 4.6817, 'eval_samples_per_second': 74.332, 'eval_steps_per_second': 9.398, 'epoch': 5.0}\n"
          ]
        }
      ],
      "source": [
        "eval_report=trainer.evaluate()\n",
        "print(eval_report)"
      ]
    },
    {
      "cell_type": "code",
      "source": [
        "trainer.save_model(output_dir=PATH_TO_PROJECT + \"modelos_finales/beto_latam\")"
      ],
      "metadata": {
        "colab": {
          "base_uri": "https://localhost:8080/"
        },
        "id": "8zHCO0INXdfE",
        "outputId": "32abc131-e884-4441-f627-1bc43d97ea13"
      },
      "id": "8zHCO0INXdfE",
      "execution_count": null,
      "outputs": [
        {
          "output_type": "stream",
          "name": "stderr",
          "text": [
            "Saving model checkpoint to ./drive/MyDrive/TER at INRIA/modelos_finales/beto_latam\n",
            "Configuration saved in ./drive/MyDrive/TER at INRIA/modelos_finales/beto_latam/config.json\n",
            "Model weights saved in ./drive/MyDrive/TER at INRIA/modelos_finales/beto_latam/pytorch_model.bin\n"
          ]
        }
      ]
    },
    {
      "cell_type": "markdown",
      "id": "yVy4sprwA3jP",
      "metadata": {
        "id": "yVy4sprwA3jP"
      },
      "source": [
        "### Predict on Test Data"
      ]
    },
    {
      "cell_type": "markdown",
      "source": [
        "#### LatAm data"
      ],
      "metadata": {
        "id": "V_jrZU3oYx0C"
      },
      "id": "V_jrZU3oYx0C"
    },
    {
      "cell_type": "code",
      "source": [
        "X_test_tokenized = tokenizer(list(test_df_latam.clean_text), padding=True, truncation=True, max_length=MAX_LENGTH)\n",
        "\n",
        "# Create torch dataset\n",
        "test_dataset = Dataset(X_test_tokenized)\n",
        "\n",
        "# Make prediction\n",
        "raw_pred, _, _ = trainer.predict(test_dataset)\n",
        "\n",
        "# Preprocess raw predictions\n",
        "y_pred = np.argmax(raw_pred, axis=1)"
      ],
      "metadata": {
        "colab": {
          "base_uri": "https://localhost:8080/",
          "height": 89
        },
        "id": "FpBj4McjXUe2",
        "outputId": "fefe0ecf-560c-4623-96f4-fe57b11b39da"
      },
      "id": "FpBj4McjXUe2",
      "execution_count": null,
      "outputs": [
        {
          "output_type": "stream",
          "name": "stderr",
          "text": [
            "***** Running Prediction *****\n",
            "  Num examples = 746\n",
            "  Batch size = 8\n"
          ]
        },
        {
          "output_type": "display_data",
          "data": {
            "text/plain": [
              "<IPython.core.display.HTML object>"
            ],
            "text/html": [
              "\n",
              "    <div>\n",
              "      \n",
              "      <progress value='138' max='44' style='width:300px; height:20px; vertical-align: middle;'></progress>\n",
              "      [44/44 00:43]\n",
              "    </div>\n",
              "    "
            ]
          },
          "metadata": {}
        }
      ]
    },
    {
      "cell_type": "code",
      "source": [
        "print(metrics.classification_report(test_df_latam.label, y_pred, digits=3))"
      ],
      "metadata": {
        "colab": {
          "base_uri": "https://localhost:8080/"
        },
        "id": "6bEnnZ63XUUq",
        "outputId": "db7f7310-146d-48b3-be3d-0678c68d9b96"
      },
      "id": "6bEnnZ63XUUq",
      "execution_count": null,
      "outputs": [
        {
          "output_type": "stream",
          "name": "stdout",
          "text": [
            "              precision    recall  f1-score   support\n",
            "\n",
            "           0      0.846     0.732     0.785       284\n",
            "           1      0.848     0.918     0.881       462\n",
            "\n",
            "    accuracy                          0.847       746\n",
            "   macro avg      0.847     0.825     0.833       746\n",
            "weighted avg      0.847     0.847     0.845       746\n",
            "\n"
          ]
        }
      ]
    },
    {
      "cell_type": "markdown",
      "source": [
        "#### Europe data"
      ],
      "metadata": {
        "id": "yHiH4rciXO6H"
      },
      "id": "yHiH4rciXO6H"
    },
    {
      "cell_type": "code",
      "execution_count": null,
      "id": "vnw_-QLm9iOj",
      "metadata": {
        "colab": {
          "base_uri": "https://localhost:8080/",
          "height": 89
        },
        "id": "vnw_-QLm9iOj",
        "outputId": "2a00e5d7-2334-4c6d-8aa9-44ea53546d17"
      },
      "outputs": [
        {
          "output_type": "stream",
          "name": "stderr",
          "text": [
            "***** Running Prediction *****\n",
            "  Num examples = 746\n",
            "  Batch size = 8\n"
          ]
        },
        {
          "output_type": "display_data",
          "data": {
            "text/plain": [
              "<IPython.core.display.HTML object>"
            ],
            "text/html": [
              "\n",
              "    <div>\n",
              "      \n",
              "      <progress value='232' max='44' style='width:300px; height:20px; vertical-align: middle;'></progress>\n",
              "      [44/44 01:03]\n",
              "    </div>\n",
              "    "
            ]
          },
          "metadata": {}
        }
      ],
      "source": [
        "X_test_tokenized = tokenizer(list(test_df_europe.clean_text), padding=True, truncation=True, max_length=MAX_LENGTH)\n",
        "\n",
        "# Create torch dataset\n",
        "test_dataset = Dataset(X_test_tokenized)\n",
        "\n",
        "# Make prediction\n",
        "raw_pred, _, _ = trainer.predict(test_dataset)\n",
        "\n",
        "# Preprocess raw predictions\n",
        "y_pred = np.argmax(raw_pred, axis=1)"
      ]
    },
    {
      "cell_type": "code",
      "execution_count": null,
      "id": "dsDZ_HRg9h_3",
      "metadata": {
        "colab": {
          "base_uri": "https://localhost:8080/"
        },
        "id": "dsDZ_HRg9h_3",
        "outputId": "ca6a3ab4-e032-4d40-b416-493935213f79"
      },
      "outputs": [
        {
          "output_type": "stream",
          "name": "stdout",
          "text": [
            "              precision    recall  f1-score   support\n",
            "\n",
            "           0      0.881     0.623     0.730       369\n",
            "           1      0.713     0.918     0.803       377\n",
            "\n",
            "    accuracy                          0.772       746\n",
            "   macro avg      0.797     0.771     0.766       746\n",
            "weighted avg      0.796     0.772     0.767       746\n",
            "\n"
          ]
        }
      ],
      "source": [
        "print(metrics.classification_report(test_df_europe.label, y_pred, digits=3))"
      ]
    },
    {
      "cell_type": "markdown",
      "source": [
        "### BETO Trained on Europe data"
      ],
      "metadata": {
        "id": "hOmSwkOHhjYU"
      },
      "id": "hOmSwkOHhjYU"
    },
    {
      "cell_type": "markdown",
      "source": [
        "- look for: Gradient accumulation\n",
        "- check the default batch size\n",
        "- change max_length"
      ],
      "metadata": {
        "id": "_81Ayu3Rhn0I"
      },
      "id": "_81Ayu3Rhn0I"
    },
    {
      "cell_type": "code",
      "source": [
        "X_train_europe, X_val_europe, y_train_europe, y_val_europe = model_selection.train_test_split(train_df_europe.clean_text, train_df_europe.label, test_size=0.2, random_state=1)"
      ],
      "metadata": {
        "id": "hRJvnCoZfMS3"
      },
      "id": "hRJvnCoZfMS3",
      "execution_count": null,
      "outputs": []
    },
    {
      "cell_type": "code",
      "source": [
        "X_train_tokenized = tokenizer(list(X_train_europe), padding=True, truncation=True, max_length=MAX_LENGTH)\n",
        "X_val_tokenized = tokenizer(list(X_val_europe), padding=True, truncation=True, max_length=MAX_LENGTH)"
      ],
      "metadata": {
        "id": "sNYKrycJfMMu"
      },
      "id": "sNYKrycJfMMu",
      "execution_count": null,
      "outputs": []
    },
    {
      "cell_type": "code",
      "source": [
        "train_dataset = Dataset(X_train_tokenized, list(y_train_europe))\n",
        "val_dataset = Dataset(X_val_tokenized, list(y_val_europe))"
      ],
      "metadata": {
        "id": "uapamS28fMG_"
      },
      "id": "uapamS28fMG_",
      "execution_count": null,
      "outputs": []
    },
    {
      "cell_type": "code",
      "source": [
        "# Define Trainer\n",
        "args = TrainingArguments(\n",
        "    output_dir=PATH_TO_PROJECT + \"outputs_colab/beto_europe\",\n",
        "    evaluation_strategy='epoch',\n",
        "    num_train_epochs=5,\n",
        "    seed=0,\n",
        "    load_best_model_at_end=True,\n",
        "    logging_strategy='epoch',\n",
        "    save_strategy='epoch',\n",
        "    metric_for_best_model='eval_f1_macro',\n",
        "    greater_is_better=True,\n",
        "    report_to=\"wandb\",\n",
        "    run_name='BETO Europe Fixed'\n",
        ")"
      ],
      "metadata": {
        "colab": {
          "base_uri": "https://localhost:8080/"
        },
        "id": "6q38vX5zfMAT",
        "outputId": "75089434-d8ba-43fa-9590-5d59323d065e"
      },
      "id": "6q38vX5zfMAT",
      "execution_count": null,
      "outputs": [
        {
          "output_type": "stream",
          "name": "stderr",
          "text": [
            "PyTorch: setting up devices\n"
          ]
        }
      ]
    },
    {
      "cell_type": "code",
      "source": [
        "trainer = Trainer(\n",
        "    model=model,\n",
        "    args=args,\n",
        "    train_dataset=train_dataset,\n",
        "    eval_dataset=val_dataset,\n",
        "    compute_metrics=compute_metrics\n",
        ")"
      ],
      "metadata": {
        "id": "8cTiSv3vfLoC"
      },
      "id": "8cTiSv3vfLoC",
      "execution_count": null,
      "outputs": []
    },
    {
      "cell_type": "code",
      "execution_count": null,
      "id": "nRfFvJJxB4Ya",
      "metadata": {
        "id": "nRfFvJJxB4Ya",
        "colab": {
          "base_uri": "https://localhost:8080/",
          "height": 996
        },
        "outputId": "d341a8ec-dfbf-47cb-c8cc-29fa2b308fe5"
      },
      "outputs": [
        {
          "output_type": "stream",
          "name": "stderr",
          "text": [
            "***** Running training *****\n",
            "  Num examples = 1392\n",
            "  Num Epochs = 5\n",
            "  Instantaneous batch size per device = 8\n",
            "  Total train batch size (w. parallel, distributed & accumulation) = 8\n",
            "  Gradient Accumulation steps = 1\n",
            "  Total optimization steps = 870\n",
            "Automatic Weights & Biases logging enabled, to disable set os.environ[\"WANDB_DISABLED\"] = \"true\"\n"
          ]
        },
        {
          "output_type": "display_data",
          "data": {
            "text/plain": [
              "<IPython.core.display.HTML object>"
            ],
            "text/html": [
              "\n",
              "    <div>\n",
              "      \n",
              "      <progress value='870' max='870' style='width:300px; height:20px; vertical-align: middle;'></progress>\n",
              "      [870/870 06:27, Epoch 5/5]\n",
              "    </div>\n",
              "    <table border=\"1\" class=\"dataframe\">\n",
              "  <thead>\n",
              " <tr style=\"text-align: left;\">\n",
              "      <th>Epoch</th>\n",
              "      <th>Training Loss</th>\n",
              "      <th>Validation Loss</th>\n",
              "      <th>F1 Macro</th>\n",
              "    </tr>\n",
              "  </thead>\n",
              "  <tbody>\n",
              "    <tr>\n",
              "      <td>1</td>\n",
              "      <td>0.438500</td>\n",
              "      <td>0.543666</td>\n",
              "      <td>0.821732</td>\n",
              "    </tr>\n",
              "    <tr>\n",
              "      <td>2</td>\n",
              "      <td>0.225600</td>\n",
              "      <td>0.371315</td>\n",
              "      <td>0.913058</td>\n",
              "    </tr>\n",
              "    <tr>\n",
              "      <td>3</td>\n",
              "      <td>0.108400</td>\n",
              "      <td>0.499811</td>\n",
              "      <td>0.889031</td>\n",
              "    </tr>\n",
              "    <tr>\n",
              "      <td>4</td>\n",
              "      <td>0.032600</td>\n",
              "      <td>0.574289</td>\n",
              "      <td>0.892713</td>\n",
              "    </tr>\n",
              "    <tr>\n",
              "      <td>5</td>\n",
              "      <td>0.005300</td>\n",
              "      <td>0.591143</td>\n",
              "      <td>0.904598</td>\n",
              "    </tr>\n",
              "  </tbody>\n",
              "</table><p>"
            ]
          },
          "metadata": {}
        },
        {
          "output_type": "stream",
          "name": "stderr",
          "text": [
            "***** Running Evaluation *****\n",
            "  Num examples = 348\n",
            "  Batch size = 8\n",
            "Saving model checkpoint to ./drive/MyDrive/TER at INRIA/outputs_colab/beto_europe/checkpoint-174\n",
            "Configuration saved in ./drive/MyDrive/TER at INRIA/outputs_colab/beto_europe/checkpoint-174/config.json\n",
            "Model weights saved in ./drive/MyDrive/TER at INRIA/outputs_colab/beto_europe/checkpoint-174/pytorch_model.bin\n",
            "***** Running Evaluation *****\n",
            "  Num examples = 348\n",
            "  Batch size = 8\n",
            "Saving model checkpoint to ./drive/MyDrive/TER at INRIA/outputs_colab/beto_europe/checkpoint-348\n",
            "Configuration saved in ./drive/MyDrive/TER at INRIA/outputs_colab/beto_europe/checkpoint-348/config.json\n",
            "Model weights saved in ./drive/MyDrive/TER at INRIA/outputs_colab/beto_europe/checkpoint-348/pytorch_model.bin\n",
            "***** Running Evaluation *****\n",
            "  Num examples = 348\n",
            "  Batch size = 8\n",
            "Saving model checkpoint to ./drive/MyDrive/TER at INRIA/outputs_colab/beto_europe/checkpoint-522\n",
            "Configuration saved in ./drive/MyDrive/TER at INRIA/outputs_colab/beto_europe/checkpoint-522/config.json\n",
            "Model weights saved in ./drive/MyDrive/TER at INRIA/outputs_colab/beto_europe/checkpoint-522/pytorch_model.bin\n",
            "***** Running Evaluation *****\n",
            "  Num examples = 348\n",
            "  Batch size = 8\n",
            "Saving model checkpoint to ./drive/MyDrive/TER at INRIA/outputs_colab/beto_europe/checkpoint-696\n",
            "Configuration saved in ./drive/MyDrive/TER at INRIA/outputs_colab/beto_europe/checkpoint-696/config.json\n",
            "Model weights saved in ./drive/MyDrive/TER at INRIA/outputs_colab/beto_europe/checkpoint-696/pytorch_model.bin\n",
            "***** Running Evaluation *****\n",
            "  Num examples = 348\n",
            "  Batch size = 8\n",
            "Saving model checkpoint to ./drive/MyDrive/TER at INRIA/outputs_colab/beto_europe/checkpoint-870\n",
            "Configuration saved in ./drive/MyDrive/TER at INRIA/outputs_colab/beto_europe/checkpoint-870/config.json\n",
            "Model weights saved in ./drive/MyDrive/TER at INRIA/outputs_colab/beto_europe/checkpoint-870/pytorch_model.bin\n",
            "\n",
            "\n",
            "Training completed. Do not forget to share your model on huggingface.co/models =)\n",
            "\n",
            "\n",
            "Loading best model from ./drive/MyDrive/TER at INRIA/outputs_colab/beto_europe/checkpoint-348 (score: 0.9130579613590939).\n"
          ]
        }
      ],
      "source": [
        "# Train pre-trained model\n",
        "train_results = trainer.train()"
      ]
    },
    {
      "cell_type": "code",
      "source": [
        "eval_report=trainer.evaluate()\n",
        "print(eval_report)"
      ],
      "metadata": {
        "colab": {
          "base_uri": "https://localhost:8080/",
          "height": 106
        },
        "id": "jY5EwfVWrpgD",
        "outputId": "4aeb1415-bfd8-4f7b-92f7-77bdf9da1770"
      },
      "id": "jY5EwfVWrpgD",
      "execution_count": null,
      "outputs": [
        {
          "output_type": "stream",
          "name": "stderr",
          "text": [
            "***** Running Evaluation *****\n",
            "  Num examples = 348\n",
            "  Batch size = 8\n"
          ]
        },
        {
          "output_type": "display_data",
          "data": {
            "text/plain": [
              "<IPython.core.display.HTML object>"
            ],
            "text/html": [
              "\n",
              "    <div>\n",
              "      \n",
              "      <progress value='44' max='44' style='width:300px; height:20px; vertical-align: middle;'></progress>\n",
              "      [44/44 00:05]\n",
              "    </div>\n",
              "    "
            ]
          },
          "metadata": {}
        },
        {
          "output_type": "stream",
          "name": "stdout",
          "text": [
            "{'eval_loss': 0.37131479382514954, 'eval_f1_macro': 0.9130579613590939, 'eval_runtime': 5.3447, 'eval_samples_per_second': 65.111, 'eval_steps_per_second': 8.232, 'epoch': 5.0}\n"
          ]
        }
      ]
    },
    {
      "cell_type": "code",
      "execution_count": null,
      "id": "dqtSsT9jB5NU",
      "metadata": {
        "id": "dqtSsT9jB5NU",
        "colab": {
          "base_uri": "https://localhost:8080/"
        },
        "outputId": "32315d45-f550-42c3-e116-d22bfa4c7313"
      },
      "outputs": [
        {
          "output_type": "stream",
          "name": "stderr",
          "text": [
            "Saving model checkpoint to ./drive/MyDrive/TER at INRIA/modelos_finales/beto_europe\n",
            "Configuration saved in ./drive/MyDrive/TER at INRIA/modelos_finales/beto_europe/config.json\n",
            "Model weights saved in ./drive/MyDrive/TER at INRIA/modelos_finales/beto_europe/pytorch_model.bin\n"
          ]
        }
      ],
      "source": [
        "trainer.save_model(output_dir=PATH_TO_PROJECT + \"modelos_finales/beto_europe\")"
      ]
    },
    {
      "cell_type": "markdown",
      "source": [
        "### Predict on Test Data"
      ],
      "metadata": {
        "id": "Lb89XTG8j7Fq"
      },
      "id": "Lb89XTG8j7Fq"
    },
    {
      "cell_type": "markdown",
      "source": [
        "#### Europe Data"
      ],
      "metadata": {
        "id": "DWLqdpEElZy4"
      },
      "id": "DWLqdpEElZy4"
    },
    {
      "cell_type": "code",
      "execution_count": null,
      "id": "mkBXdvGAB5TD",
      "metadata": {
        "id": "mkBXdvGAB5TD",
        "colab": {
          "base_uri": "https://localhost:8080/",
          "height": 89
        },
        "outputId": "0e736378-5d05-4932-9b05-be8c982bd9ca"
      },
      "outputs": [
        {
          "output_type": "stream",
          "name": "stderr",
          "text": [
            "***** Running Prediction *****\n",
            "  Num examples = 746\n",
            "  Batch size = 8\n"
          ]
        },
        {
          "output_type": "display_data",
          "data": {
            "text/plain": [
              "<IPython.core.display.HTML object>"
            ],
            "text/html": [
              "\n",
              "    <div>\n",
              "      \n",
              "      <progress value='138' max='44' style='width:300px; height:20px; vertical-align: middle;'></progress>\n",
              "      [44/44 00:21]\n",
              "    </div>\n",
              "    "
            ]
          },
          "metadata": {}
        }
      ],
      "source": [
        "X_test_tokenized = tokenizer(list(test_df_europe.clean_text), padding=True, truncation=True, max_length=MAX_LENGTH)\n",
        "\n",
        "# Create torch dataset\n",
        "test_dataset = Dataset(X_test_tokenized)\n",
        "\n",
        "# Make prediction\n",
        "raw_pred, _, _ = trainer.predict(test_dataset)\n",
        "\n",
        "# Preprocess raw predictions\n",
        "y_pred = np.argmax(raw_pred, axis=1)"
      ]
    },
    {
      "cell_type": "code",
      "execution_count": null,
      "id": "yB_lVJn1B5YL",
      "metadata": {
        "id": "yB_lVJn1B5YL",
        "colab": {
          "base_uri": "https://localhost:8080/"
        },
        "outputId": "bfe2b9e4-6e60-47fa-d7ee-2a41beaf0644"
      },
      "outputs": [
        {
          "output_type": "stream",
          "name": "stdout",
          "text": [
            "              precision    recall  f1-score   support\n",
            "\n",
            "           0      0.918     0.905     0.911       369\n",
            "           1      0.908     0.920     0.914       377\n",
            "\n",
            "    accuracy                          0.913       746\n",
            "   macro avg      0.913     0.913     0.913       746\n",
            "weighted avg      0.913     0.913     0.913       746\n",
            "\n"
          ]
        }
      ],
      "source": [
        "print(metrics.classification_report(test_df_europe.label, y_pred, digits=3))"
      ]
    },
    {
      "cell_type": "markdown",
      "source": [
        "#### LatAm Data"
      ],
      "metadata": {
        "id": "lTzQFnWvmAQp"
      },
      "id": "lTzQFnWvmAQp"
    },
    {
      "cell_type": "code",
      "execution_count": null,
      "id": "ViduSJRCB5cM",
      "metadata": {
        "id": "ViduSJRCB5cM",
        "colab": {
          "base_uri": "https://localhost:8080/",
          "height": 89
        },
        "outputId": "fbe7cd75-4a1d-46c8-9402-a140ef2b948c"
      },
      "outputs": [
        {
          "output_type": "stream",
          "name": "stderr",
          "text": [
            "***** Running Prediction *****\n",
            "  Num examples = 746\n",
            "  Batch size = 8\n"
          ]
        },
        {
          "output_type": "display_data",
          "data": {
            "text/plain": [
              "<IPython.core.display.HTML object>"
            ],
            "text/html": [
              "\n",
              "    <div>\n",
              "      \n",
              "      <progress value='232' max='44' style='width:300px; height:20px; vertical-align: middle;'></progress>\n",
              "      [44/44 00:36]\n",
              "    </div>\n",
              "    "
            ]
          },
          "metadata": {}
        }
      ],
      "source": [
        "X_test_tokenized = tokenizer(list(test_df_latam.clean_text), padding=True, truncation=True, max_length=MAX_LENGTH)\n",
        "\n",
        "# Create torch dataset\n",
        "test_dataset = Dataset(X_test_tokenized)\n",
        "\n",
        "# Make prediction\n",
        "raw_pred, _, _ = trainer.predict(test_dataset)\n",
        "\n",
        "# Preprocess raw predictions\n",
        "y_pred = np.argmax(raw_pred, axis=1)"
      ]
    },
    {
      "cell_type": "code",
      "source": [
        "print(metrics.classification_report(test_df_latam.label, y_pred, digits=3))"
      ],
      "metadata": {
        "colab": {
          "base_uri": "https://localhost:8080/"
        },
        "id": "210r876umHi4",
        "outputId": "eef81918-e164-4012-8b9c-1097ac2ffc1d"
      },
      "id": "210r876umHi4",
      "execution_count": null,
      "outputs": [
        {
          "output_type": "stream",
          "name": "stdout",
          "text": [
            "              precision    recall  f1-score   support\n",
            "\n",
            "           0      0.686     0.739     0.712       284\n",
            "           1      0.832     0.792     0.812       462\n",
            "\n",
            "    accuracy                          0.772       746\n",
            "   macro avg      0.759     0.766     0.762       746\n",
            "weighted avg      0.776     0.772     0.774       746\n",
            "\n"
          ]
        }
      ]
    },
    {
      "cell_type": "code",
      "source": [
        ""
      ],
      "metadata": {
        "id": "6-epEKvdmHv_"
      },
      "id": "6-epEKvdmHv_",
      "execution_count": null,
      "outputs": []
    }
  ],
  "metadata": {
    "accelerator": "GPU",
    "colab": {
      "collapsed_sections": [],
      "name": "cross_lingual_europe_latam_TER.ipynb",
      "provenance": []
    },
    "kernelspec": {
      "display_name": "my_ter_env",
      "language": "python",
      "name": "my_ter_env"
    },
    "language_info": {
      "codemirror_mode": {
        "name": "ipython",
        "version": 3
      },
      "file_extension": ".py",
      "mimetype": "text/x-python",
      "name": "python",
      "nbconvert_exporter": "python",
      "pygments_lexer": "ipython3",
      "version": "3.6.9"
    },
    "widgets": {
      "application/vnd.jupyter.widget-state+json": {
        "7763750b84c4457194beb528af472960": {
          "model_module": "@jupyter-widgets/controls",
          "model_name": "HBoxModel",
          "model_module_version": "1.5.0",
          "state": {
            "_dom_classes": [],
            "_model_module": "@jupyter-widgets/controls",
            "_model_module_version": "1.5.0",
            "_model_name": "HBoxModel",
            "_view_count": null,
            "_view_module": "@jupyter-widgets/controls",
            "_view_module_version": "1.5.0",
            "_view_name": "HBoxView",
            "box_style": "",
            "children": [
              "IPY_MODEL_f4286a831ad94d1d8e7c885b24bd6bb6",
              "IPY_MODEL_283bce95cf604e77b3437280004d81c1",
              "IPY_MODEL_d92a27a43532477ebea375a0c1b6f0ed"
            ],
            "layout": "IPY_MODEL_3f55953d13c14fdba84a1b27e24e67af"
          }
        },
        "f4286a831ad94d1d8e7c885b24bd6bb6": {
          "model_module": "@jupyter-widgets/controls",
          "model_name": "HTMLModel",
          "model_module_version": "1.5.0",
          "state": {
            "_dom_classes": [],
            "_model_module": "@jupyter-widgets/controls",
            "_model_module_version": "1.5.0",
            "_model_name": "HTMLModel",
            "_view_count": null,
            "_view_module": "@jupyter-widgets/controls",
            "_view_module_version": "1.5.0",
            "_view_name": "HTMLView",
            "description": "",
            "description_tooltip": null,
            "layout": "IPY_MODEL_27d487251d9846018ea96b10e077c392",
            "placeholder": "​",
            "style": "IPY_MODEL_1ea3fcb3b8b0453384c325ca18f148ad",
            "value": "Downloading: 100%"
          }
        },
        "283bce95cf604e77b3437280004d81c1": {
          "model_module": "@jupyter-widgets/controls",
          "model_name": "FloatProgressModel",
          "model_module_version": "1.5.0",
          "state": {
            "_dom_classes": [],
            "_model_module": "@jupyter-widgets/controls",
            "_model_module_version": "1.5.0",
            "_model_name": "FloatProgressModel",
            "_view_count": null,
            "_view_module": "@jupyter-widgets/controls",
            "_view_module_version": "1.5.0",
            "_view_name": "ProgressView",
            "bar_style": "success",
            "description": "",
            "description_tooltip": null,
            "layout": "IPY_MODEL_2a9e986d5778488ebe18eaf5dfd74dec",
            "max": 241796,
            "min": 0,
            "orientation": "horizontal",
            "style": "IPY_MODEL_637cd42fd1ea457d98f3564f49c9e392",
            "value": 241796
          }
        },
        "d92a27a43532477ebea375a0c1b6f0ed": {
          "model_module": "@jupyter-widgets/controls",
          "model_name": "HTMLModel",
          "model_module_version": "1.5.0",
          "state": {
            "_dom_classes": [],
            "_model_module": "@jupyter-widgets/controls",
            "_model_module_version": "1.5.0",
            "_model_name": "HTMLModel",
            "_view_count": null,
            "_view_module": "@jupyter-widgets/controls",
            "_view_module_version": "1.5.0",
            "_view_name": "HTMLView",
            "description": "",
            "description_tooltip": null,
            "layout": "IPY_MODEL_ef9316f130ed4920a32e3f156204c67f",
            "placeholder": "​",
            "style": "IPY_MODEL_03074f8391844c95abe49152e650f77f",
            "value": " 236k/236k [00:00&lt;00:00, 1.02MB/s]"
          }
        },
        "3f55953d13c14fdba84a1b27e24e67af": {
          "model_module": "@jupyter-widgets/base",
          "model_name": "LayoutModel",
          "model_module_version": "1.2.0",
          "state": {
            "_model_module": "@jupyter-widgets/base",
            "_model_module_version": "1.2.0",
            "_model_name": "LayoutModel",
            "_view_count": null,
            "_view_module": "@jupyter-widgets/base",
            "_view_module_version": "1.2.0",
            "_view_name": "LayoutView",
            "align_content": null,
            "align_items": null,
            "align_self": null,
            "border": null,
            "bottom": null,
            "display": null,
            "flex": null,
            "flex_flow": null,
            "grid_area": null,
            "grid_auto_columns": null,
            "grid_auto_flow": null,
            "grid_auto_rows": null,
            "grid_column": null,
            "grid_gap": null,
            "grid_row": null,
            "grid_template_areas": null,
            "grid_template_columns": null,
            "grid_template_rows": null,
            "height": null,
            "justify_content": null,
            "justify_items": null,
            "left": null,
            "margin": null,
            "max_height": null,
            "max_width": null,
            "min_height": null,
            "min_width": null,
            "object_fit": null,
            "object_position": null,
            "order": null,
            "overflow": null,
            "overflow_x": null,
            "overflow_y": null,
            "padding": null,
            "right": null,
            "top": null,
            "visibility": null,
            "width": null
          }
        },
        "27d487251d9846018ea96b10e077c392": {
          "model_module": "@jupyter-widgets/base",
          "model_name": "LayoutModel",
          "model_module_version": "1.2.0",
          "state": {
            "_model_module": "@jupyter-widgets/base",
            "_model_module_version": "1.2.0",
            "_model_name": "LayoutModel",
            "_view_count": null,
            "_view_module": "@jupyter-widgets/base",
            "_view_module_version": "1.2.0",
            "_view_name": "LayoutView",
            "align_content": null,
            "align_items": null,
            "align_self": null,
            "border": null,
            "bottom": null,
            "display": null,
            "flex": null,
            "flex_flow": null,
            "grid_area": null,
            "grid_auto_columns": null,
            "grid_auto_flow": null,
            "grid_auto_rows": null,
            "grid_column": null,
            "grid_gap": null,
            "grid_row": null,
            "grid_template_areas": null,
            "grid_template_columns": null,
            "grid_template_rows": null,
            "height": null,
            "justify_content": null,
            "justify_items": null,
            "left": null,
            "margin": null,
            "max_height": null,
            "max_width": null,
            "min_height": null,
            "min_width": null,
            "object_fit": null,
            "object_position": null,
            "order": null,
            "overflow": null,
            "overflow_x": null,
            "overflow_y": null,
            "padding": null,
            "right": null,
            "top": null,
            "visibility": null,
            "width": null
          }
        },
        "1ea3fcb3b8b0453384c325ca18f148ad": {
          "model_module": "@jupyter-widgets/controls",
          "model_name": "DescriptionStyleModel",
          "model_module_version": "1.5.0",
          "state": {
            "_model_module": "@jupyter-widgets/controls",
            "_model_module_version": "1.5.0",
            "_model_name": "DescriptionStyleModel",
            "_view_count": null,
            "_view_module": "@jupyter-widgets/base",
            "_view_module_version": "1.2.0",
            "_view_name": "StyleView",
            "description_width": ""
          }
        },
        "2a9e986d5778488ebe18eaf5dfd74dec": {
          "model_module": "@jupyter-widgets/base",
          "model_name": "LayoutModel",
          "model_module_version": "1.2.0",
          "state": {
            "_model_module": "@jupyter-widgets/base",
            "_model_module_version": "1.2.0",
            "_model_name": "LayoutModel",
            "_view_count": null,
            "_view_module": "@jupyter-widgets/base",
            "_view_module_version": "1.2.0",
            "_view_name": "LayoutView",
            "align_content": null,
            "align_items": null,
            "align_self": null,
            "border": null,
            "bottom": null,
            "display": null,
            "flex": null,
            "flex_flow": null,
            "grid_area": null,
            "grid_auto_columns": null,
            "grid_auto_flow": null,
            "grid_auto_rows": null,
            "grid_column": null,
            "grid_gap": null,
            "grid_row": null,
            "grid_template_areas": null,
            "grid_template_columns": null,
            "grid_template_rows": null,
            "height": null,
            "justify_content": null,
            "justify_items": null,
            "left": null,
            "margin": null,
            "max_height": null,
            "max_width": null,
            "min_height": null,
            "min_width": null,
            "object_fit": null,
            "object_position": null,
            "order": null,
            "overflow": null,
            "overflow_x": null,
            "overflow_y": null,
            "padding": null,
            "right": null,
            "top": null,
            "visibility": null,
            "width": null
          }
        },
        "637cd42fd1ea457d98f3564f49c9e392": {
          "model_module": "@jupyter-widgets/controls",
          "model_name": "ProgressStyleModel",
          "model_module_version": "1.5.0",
          "state": {
            "_model_module": "@jupyter-widgets/controls",
            "_model_module_version": "1.5.0",
            "_model_name": "ProgressStyleModel",
            "_view_count": null,
            "_view_module": "@jupyter-widgets/base",
            "_view_module_version": "1.2.0",
            "_view_name": "StyleView",
            "bar_color": null,
            "description_width": ""
          }
        },
        "ef9316f130ed4920a32e3f156204c67f": {
          "model_module": "@jupyter-widgets/base",
          "model_name": "LayoutModel",
          "model_module_version": "1.2.0",
          "state": {
            "_model_module": "@jupyter-widgets/base",
            "_model_module_version": "1.2.0",
            "_model_name": "LayoutModel",
            "_view_count": null,
            "_view_module": "@jupyter-widgets/base",
            "_view_module_version": "1.2.0",
            "_view_name": "LayoutView",
            "align_content": null,
            "align_items": null,
            "align_self": null,
            "border": null,
            "bottom": null,
            "display": null,
            "flex": null,
            "flex_flow": null,
            "grid_area": null,
            "grid_auto_columns": null,
            "grid_auto_flow": null,
            "grid_auto_rows": null,
            "grid_column": null,
            "grid_gap": null,
            "grid_row": null,
            "grid_template_areas": null,
            "grid_template_columns": null,
            "grid_template_rows": null,
            "height": null,
            "justify_content": null,
            "justify_items": null,
            "left": null,
            "margin": null,
            "max_height": null,
            "max_width": null,
            "min_height": null,
            "min_width": null,
            "object_fit": null,
            "object_position": null,
            "order": null,
            "overflow": null,
            "overflow_x": null,
            "overflow_y": null,
            "padding": null,
            "right": null,
            "top": null,
            "visibility": null,
            "width": null
          }
        },
        "03074f8391844c95abe49152e650f77f": {
          "model_module": "@jupyter-widgets/controls",
          "model_name": "DescriptionStyleModel",
          "model_module_version": "1.5.0",
          "state": {
            "_model_module": "@jupyter-widgets/controls",
            "_model_module_version": "1.5.0",
            "_model_name": "DescriptionStyleModel",
            "_view_count": null,
            "_view_module": "@jupyter-widgets/base",
            "_view_module_version": "1.2.0",
            "_view_name": "StyleView",
            "description_width": ""
          }
        },
        "64019783d27c4329b38524758de20424": {
          "model_module": "@jupyter-widgets/controls",
          "model_name": "HBoxModel",
          "model_module_version": "1.5.0",
          "state": {
            "_dom_classes": [],
            "_model_module": "@jupyter-widgets/controls",
            "_model_module_version": "1.5.0",
            "_model_name": "HBoxModel",
            "_view_count": null,
            "_view_module": "@jupyter-widgets/controls",
            "_view_module_version": "1.5.0",
            "_view_name": "HBoxView",
            "box_style": "",
            "children": [
              "IPY_MODEL_6fe10ed55c9342cb8ead880548f217d4",
              "IPY_MODEL_9134d1f32a15434ca05532852794b717",
              "IPY_MODEL_1a19cdb3d6e1477da90860720c57a5fb"
            ],
            "layout": "IPY_MODEL_8dbe98e0db3a463c8fb3a8def4a14d29"
          }
        },
        "6fe10ed55c9342cb8ead880548f217d4": {
          "model_module": "@jupyter-widgets/controls",
          "model_name": "HTMLModel",
          "model_module_version": "1.5.0",
          "state": {
            "_dom_classes": [],
            "_model_module": "@jupyter-widgets/controls",
            "_model_module_version": "1.5.0",
            "_model_name": "HTMLModel",
            "_view_count": null,
            "_view_module": "@jupyter-widgets/controls",
            "_view_module_version": "1.5.0",
            "_view_name": "HTMLView",
            "description": "",
            "description_tooltip": null,
            "layout": "IPY_MODEL_a0a52a32c2e24b6dbbcb1667ae4b20d8",
            "placeholder": "​",
            "style": "IPY_MODEL_a50ba89a37a1435bac441d84d2c2bcaf",
            "value": "Downloading: 100%"
          }
        },
        "9134d1f32a15434ca05532852794b717": {
          "model_module": "@jupyter-widgets/controls",
          "model_name": "FloatProgressModel",
          "model_module_version": "1.5.0",
          "state": {
            "_dom_classes": [],
            "_model_module": "@jupyter-widgets/controls",
            "_model_module_version": "1.5.0",
            "_model_name": "FloatProgressModel",
            "_view_count": null,
            "_view_module": "@jupyter-widgets/controls",
            "_view_module_version": "1.5.0",
            "_view_name": "ProgressView",
            "bar_style": "success",
            "description": "",
            "description_tooltip": null,
            "layout": "IPY_MODEL_10131adfec354d69906ae50e52785c72",
            "max": 134,
            "min": 0,
            "orientation": "horizontal",
            "style": "IPY_MODEL_c60f678b8de04224be597403c339f65e",
            "value": 134
          }
        },
        "1a19cdb3d6e1477da90860720c57a5fb": {
          "model_module": "@jupyter-widgets/controls",
          "model_name": "HTMLModel",
          "model_module_version": "1.5.0",
          "state": {
            "_dom_classes": [],
            "_model_module": "@jupyter-widgets/controls",
            "_model_module_version": "1.5.0",
            "_model_name": "HTMLModel",
            "_view_count": null,
            "_view_module": "@jupyter-widgets/controls",
            "_view_module_version": "1.5.0",
            "_view_name": "HTMLView",
            "description": "",
            "description_tooltip": null,
            "layout": "IPY_MODEL_4e0176c9d1444a0ea0d7b0fc9819128e",
            "placeholder": "​",
            "style": "IPY_MODEL_7f99ea0abcee42dfa6f13f44e8103a30",
            "value": " 134/134 [00:00&lt;00:00, 3.45kB/s]"
          }
        },
        "8dbe98e0db3a463c8fb3a8def4a14d29": {
          "model_module": "@jupyter-widgets/base",
          "model_name": "LayoutModel",
          "model_module_version": "1.2.0",
          "state": {
            "_model_module": "@jupyter-widgets/base",
            "_model_module_version": "1.2.0",
            "_model_name": "LayoutModel",
            "_view_count": null,
            "_view_module": "@jupyter-widgets/base",
            "_view_module_version": "1.2.0",
            "_view_name": "LayoutView",
            "align_content": null,
            "align_items": null,
            "align_self": null,
            "border": null,
            "bottom": null,
            "display": null,
            "flex": null,
            "flex_flow": null,
            "grid_area": null,
            "grid_auto_columns": null,
            "grid_auto_flow": null,
            "grid_auto_rows": null,
            "grid_column": null,
            "grid_gap": null,
            "grid_row": null,
            "grid_template_areas": null,
            "grid_template_columns": null,
            "grid_template_rows": null,
            "height": null,
            "justify_content": null,
            "justify_items": null,
            "left": null,
            "margin": null,
            "max_height": null,
            "max_width": null,
            "min_height": null,
            "min_width": null,
            "object_fit": null,
            "object_position": null,
            "order": null,
            "overflow": null,
            "overflow_x": null,
            "overflow_y": null,
            "padding": null,
            "right": null,
            "top": null,
            "visibility": null,
            "width": null
          }
        },
        "a0a52a32c2e24b6dbbcb1667ae4b20d8": {
          "model_module": "@jupyter-widgets/base",
          "model_name": "LayoutModel",
          "model_module_version": "1.2.0",
          "state": {
            "_model_module": "@jupyter-widgets/base",
            "_model_module_version": "1.2.0",
            "_model_name": "LayoutModel",
            "_view_count": null,
            "_view_module": "@jupyter-widgets/base",
            "_view_module_version": "1.2.0",
            "_view_name": "LayoutView",
            "align_content": null,
            "align_items": null,
            "align_self": null,
            "border": null,
            "bottom": null,
            "display": null,
            "flex": null,
            "flex_flow": null,
            "grid_area": null,
            "grid_auto_columns": null,
            "grid_auto_flow": null,
            "grid_auto_rows": null,
            "grid_column": null,
            "grid_gap": null,
            "grid_row": null,
            "grid_template_areas": null,
            "grid_template_columns": null,
            "grid_template_rows": null,
            "height": null,
            "justify_content": null,
            "justify_items": null,
            "left": null,
            "margin": null,
            "max_height": null,
            "max_width": null,
            "min_height": null,
            "min_width": null,
            "object_fit": null,
            "object_position": null,
            "order": null,
            "overflow": null,
            "overflow_x": null,
            "overflow_y": null,
            "padding": null,
            "right": null,
            "top": null,
            "visibility": null,
            "width": null
          }
        },
        "a50ba89a37a1435bac441d84d2c2bcaf": {
          "model_module": "@jupyter-widgets/controls",
          "model_name": "DescriptionStyleModel",
          "model_module_version": "1.5.0",
          "state": {
            "_model_module": "@jupyter-widgets/controls",
            "_model_module_version": "1.5.0",
            "_model_name": "DescriptionStyleModel",
            "_view_count": null,
            "_view_module": "@jupyter-widgets/base",
            "_view_module_version": "1.2.0",
            "_view_name": "StyleView",
            "description_width": ""
          }
        },
        "10131adfec354d69906ae50e52785c72": {
          "model_module": "@jupyter-widgets/base",
          "model_name": "LayoutModel",
          "model_module_version": "1.2.0",
          "state": {
            "_model_module": "@jupyter-widgets/base",
            "_model_module_version": "1.2.0",
            "_model_name": "LayoutModel",
            "_view_count": null,
            "_view_module": "@jupyter-widgets/base",
            "_view_module_version": "1.2.0",
            "_view_name": "LayoutView",
            "align_content": null,
            "align_items": null,
            "align_self": null,
            "border": null,
            "bottom": null,
            "display": null,
            "flex": null,
            "flex_flow": null,
            "grid_area": null,
            "grid_auto_columns": null,
            "grid_auto_flow": null,
            "grid_auto_rows": null,
            "grid_column": null,
            "grid_gap": null,
            "grid_row": null,
            "grid_template_areas": null,
            "grid_template_columns": null,
            "grid_template_rows": null,
            "height": null,
            "justify_content": null,
            "justify_items": null,
            "left": null,
            "margin": null,
            "max_height": null,
            "max_width": null,
            "min_height": null,
            "min_width": null,
            "object_fit": null,
            "object_position": null,
            "order": null,
            "overflow": null,
            "overflow_x": null,
            "overflow_y": null,
            "padding": null,
            "right": null,
            "top": null,
            "visibility": null,
            "width": null
          }
        },
        "c60f678b8de04224be597403c339f65e": {
          "model_module": "@jupyter-widgets/controls",
          "model_name": "ProgressStyleModel",
          "model_module_version": "1.5.0",
          "state": {
            "_model_module": "@jupyter-widgets/controls",
            "_model_module_version": "1.5.0",
            "_model_name": "ProgressStyleModel",
            "_view_count": null,
            "_view_module": "@jupyter-widgets/base",
            "_view_module_version": "1.2.0",
            "_view_name": "StyleView",
            "bar_color": null,
            "description_width": ""
          }
        },
        "4e0176c9d1444a0ea0d7b0fc9819128e": {
          "model_module": "@jupyter-widgets/base",
          "model_name": "LayoutModel",
          "model_module_version": "1.2.0",
          "state": {
            "_model_module": "@jupyter-widgets/base",
            "_model_module_version": "1.2.0",
            "_model_name": "LayoutModel",
            "_view_count": null,
            "_view_module": "@jupyter-widgets/base",
            "_view_module_version": "1.2.0",
            "_view_name": "LayoutView",
            "align_content": null,
            "align_items": null,
            "align_self": null,
            "border": null,
            "bottom": null,
            "display": null,
            "flex": null,
            "flex_flow": null,
            "grid_area": null,
            "grid_auto_columns": null,
            "grid_auto_flow": null,
            "grid_auto_rows": null,
            "grid_column": null,
            "grid_gap": null,
            "grid_row": null,
            "grid_template_areas": null,
            "grid_template_columns": null,
            "grid_template_rows": null,
            "height": null,
            "justify_content": null,
            "justify_items": null,
            "left": null,
            "margin": null,
            "max_height": null,
            "max_width": null,
            "min_height": null,
            "min_width": null,
            "object_fit": null,
            "object_position": null,
            "order": null,
            "overflow": null,
            "overflow_x": null,
            "overflow_y": null,
            "padding": null,
            "right": null,
            "top": null,
            "visibility": null,
            "width": null
          }
        },
        "7f99ea0abcee42dfa6f13f44e8103a30": {
          "model_module": "@jupyter-widgets/controls",
          "model_name": "DescriptionStyleModel",
          "model_module_version": "1.5.0",
          "state": {
            "_model_module": "@jupyter-widgets/controls",
            "_model_module_version": "1.5.0",
            "_model_name": "DescriptionStyleModel",
            "_view_count": null,
            "_view_module": "@jupyter-widgets/base",
            "_view_module_version": "1.2.0",
            "_view_name": "StyleView",
            "description_width": ""
          }
        },
        "eb27abc0982b4ffa8eed5e71c669c4e3": {
          "model_module": "@jupyter-widgets/controls",
          "model_name": "HBoxModel",
          "model_module_version": "1.5.0",
          "state": {
            "_dom_classes": [],
            "_model_module": "@jupyter-widgets/controls",
            "_model_module_version": "1.5.0",
            "_model_name": "HBoxModel",
            "_view_count": null,
            "_view_module": "@jupyter-widgets/controls",
            "_view_module_version": "1.5.0",
            "_view_name": "HBoxView",
            "box_style": "",
            "children": [
              "IPY_MODEL_379b368b904b4e32b3e795f4ff3417ce",
              "IPY_MODEL_d21d4b8900b44791a0de0d41576fd622",
              "IPY_MODEL_604ea82cced841a8924439e0ac55883c"
            ],
            "layout": "IPY_MODEL_ea9f65048835453994d374b6cb06de02"
          }
        },
        "379b368b904b4e32b3e795f4ff3417ce": {
          "model_module": "@jupyter-widgets/controls",
          "model_name": "HTMLModel",
          "model_module_version": "1.5.0",
          "state": {
            "_dom_classes": [],
            "_model_module": "@jupyter-widgets/controls",
            "_model_module_version": "1.5.0",
            "_model_name": "HTMLModel",
            "_view_count": null,
            "_view_module": "@jupyter-widgets/controls",
            "_view_module_version": "1.5.0",
            "_view_name": "HTMLView",
            "description": "",
            "description_tooltip": null,
            "layout": "IPY_MODEL_b47b3c4943294fe8af243de3b9cd586e",
            "placeholder": "​",
            "style": "IPY_MODEL_6ce3635cb9c441aabd6740f59da32fb5",
            "value": "Downloading: 100%"
          }
        },
        "d21d4b8900b44791a0de0d41576fd622": {
          "model_module": "@jupyter-widgets/controls",
          "model_name": "FloatProgressModel",
          "model_module_version": "1.5.0",
          "state": {
            "_dom_classes": [],
            "_model_module": "@jupyter-widgets/controls",
            "_model_module_version": "1.5.0",
            "_model_name": "FloatProgressModel",
            "_view_count": null,
            "_view_module": "@jupyter-widgets/controls",
            "_view_module_version": "1.5.0",
            "_view_name": "ProgressView",
            "bar_style": "success",
            "description": "",
            "description_tooltip": null,
            "layout": "IPY_MODEL_95dfaf225ad141c088908863cacea181",
            "max": 364,
            "min": 0,
            "orientation": "horizontal",
            "style": "IPY_MODEL_f9843b269fb440d7bd1b32f9b1add49f",
            "value": 364
          }
        },
        "604ea82cced841a8924439e0ac55883c": {
          "model_module": "@jupyter-widgets/controls",
          "model_name": "HTMLModel",
          "model_module_version": "1.5.0",
          "state": {
            "_dom_classes": [],
            "_model_module": "@jupyter-widgets/controls",
            "_model_module_version": "1.5.0",
            "_model_name": "HTMLModel",
            "_view_count": null,
            "_view_module": "@jupyter-widgets/controls",
            "_view_module_version": "1.5.0",
            "_view_name": "HTMLView",
            "description": "",
            "description_tooltip": null,
            "layout": "IPY_MODEL_6a3cd9981414464aa3a5ffd7ab6c7ed0",
            "placeholder": "​",
            "style": "IPY_MODEL_edbfd6efe69c47128a81aa39a97cad55",
            "value": " 364/364 [00:00&lt;00:00, 9.02kB/s]"
          }
        },
        "ea9f65048835453994d374b6cb06de02": {
          "model_module": "@jupyter-widgets/base",
          "model_name": "LayoutModel",
          "model_module_version": "1.2.0",
          "state": {
            "_model_module": "@jupyter-widgets/base",
            "_model_module_version": "1.2.0",
            "_model_name": "LayoutModel",
            "_view_count": null,
            "_view_module": "@jupyter-widgets/base",
            "_view_module_version": "1.2.0",
            "_view_name": "LayoutView",
            "align_content": null,
            "align_items": null,
            "align_self": null,
            "border": null,
            "bottom": null,
            "display": null,
            "flex": null,
            "flex_flow": null,
            "grid_area": null,
            "grid_auto_columns": null,
            "grid_auto_flow": null,
            "grid_auto_rows": null,
            "grid_column": null,
            "grid_gap": null,
            "grid_row": null,
            "grid_template_areas": null,
            "grid_template_columns": null,
            "grid_template_rows": null,
            "height": null,
            "justify_content": null,
            "justify_items": null,
            "left": null,
            "margin": null,
            "max_height": null,
            "max_width": null,
            "min_height": null,
            "min_width": null,
            "object_fit": null,
            "object_position": null,
            "order": null,
            "overflow": null,
            "overflow_x": null,
            "overflow_y": null,
            "padding": null,
            "right": null,
            "top": null,
            "visibility": null,
            "width": null
          }
        },
        "b47b3c4943294fe8af243de3b9cd586e": {
          "model_module": "@jupyter-widgets/base",
          "model_name": "LayoutModel",
          "model_module_version": "1.2.0",
          "state": {
            "_model_module": "@jupyter-widgets/base",
            "_model_module_version": "1.2.0",
            "_model_name": "LayoutModel",
            "_view_count": null,
            "_view_module": "@jupyter-widgets/base",
            "_view_module_version": "1.2.0",
            "_view_name": "LayoutView",
            "align_content": null,
            "align_items": null,
            "align_self": null,
            "border": null,
            "bottom": null,
            "display": null,
            "flex": null,
            "flex_flow": null,
            "grid_area": null,
            "grid_auto_columns": null,
            "grid_auto_flow": null,
            "grid_auto_rows": null,
            "grid_column": null,
            "grid_gap": null,
            "grid_row": null,
            "grid_template_areas": null,
            "grid_template_columns": null,
            "grid_template_rows": null,
            "height": null,
            "justify_content": null,
            "justify_items": null,
            "left": null,
            "margin": null,
            "max_height": null,
            "max_width": null,
            "min_height": null,
            "min_width": null,
            "object_fit": null,
            "object_position": null,
            "order": null,
            "overflow": null,
            "overflow_x": null,
            "overflow_y": null,
            "padding": null,
            "right": null,
            "top": null,
            "visibility": null,
            "width": null
          }
        },
        "6ce3635cb9c441aabd6740f59da32fb5": {
          "model_module": "@jupyter-widgets/controls",
          "model_name": "DescriptionStyleModel",
          "model_module_version": "1.5.0",
          "state": {
            "_model_module": "@jupyter-widgets/controls",
            "_model_module_version": "1.5.0",
            "_model_name": "DescriptionStyleModel",
            "_view_count": null,
            "_view_module": "@jupyter-widgets/base",
            "_view_module_version": "1.2.0",
            "_view_name": "StyleView",
            "description_width": ""
          }
        },
        "95dfaf225ad141c088908863cacea181": {
          "model_module": "@jupyter-widgets/base",
          "model_name": "LayoutModel",
          "model_module_version": "1.2.0",
          "state": {
            "_model_module": "@jupyter-widgets/base",
            "_model_module_version": "1.2.0",
            "_model_name": "LayoutModel",
            "_view_count": null,
            "_view_module": "@jupyter-widgets/base",
            "_view_module_version": "1.2.0",
            "_view_name": "LayoutView",
            "align_content": null,
            "align_items": null,
            "align_self": null,
            "border": null,
            "bottom": null,
            "display": null,
            "flex": null,
            "flex_flow": null,
            "grid_area": null,
            "grid_auto_columns": null,
            "grid_auto_flow": null,
            "grid_auto_rows": null,
            "grid_column": null,
            "grid_gap": null,
            "grid_row": null,
            "grid_template_areas": null,
            "grid_template_columns": null,
            "grid_template_rows": null,
            "height": null,
            "justify_content": null,
            "justify_items": null,
            "left": null,
            "margin": null,
            "max_height": null,
            "max_width": null,
            "min_height": null,
            "min_width": null,
            "object_fit": null,
            "object_position": null,
            "order": null,
            "overflow": null,
            "overflow_x": null,
            "overflow_y": null,
            "padding": null,
            "right": null,
            "top": null,
            "visibility": null,
            "width": null
          }
        },
        "f9843b269fb440d7bd1b32f9b1add49f": {
          "model_module": "@jupyter-widgets/controls",
          "model_name": "ProgressStyleModel",
          "model_module_version": "1.5.0",
          "state": {
            "_model_module": "@jupyter-widgets/controls",
            "_model_module_version": "1.5.0",
            "_model_name": "ProgressStyleModel",
            "_view_count": null,
            "_view_module": "@jupyter-widgets/base",
            "_view_module_version": "1.2.0",
            "_view_name": "StyleView",
            "bar_color": null,
            "description_width": ""
          }
        },
        "6a3cd9981414464aa3a5ffd7ab6c7ed0": {
          "model_module": "@jupyter-widgets/base",
          "model_name": "LayoutModel",
          "model_module_version": "1.2.0",
          "state": {
            "_model_module": "@jupyter-widgets/base",
            "_model_module_version": "1.2.0",
            "_model_name": "LayoutModel",
            "_view_count": null,
            "_view_module": "@jupyter-widgets/base",
            "_view_module_version": "1.2.0",
            "_view_name": "LayoutView",
            "align_content": null,
            "align_items": null,
            "align_self": null,
            "border": null,
            "bottom": null,
            "display": null,
            "flex": null,
            "flex_flow": null,
            "grid_area": null,
            "grid_auto_columns": null,
            "grid_auto_flow": null,
            "grid_auto_rows": null,
            "grid_column": null,
            "grid_gap": null,
            "grid_row": null,
            "grid_template_areas": null,
            "grid_template_columns": null,
            "grid_template_rows": null,
            "height": null,
            "justify_content": null,
            "justify_items": null,
            "left": null,
            "margin": null,
            "max_height": null,
            "max_width": null,
            "min_height": null,
            "min_width": null,
            "object_fit": null,
            "object_position": null,
            "order": null,
            "overflow": null,
            "overflow_x": null,
            "overflow_y": null,
            "padding": null,
            "right": null,
            "top": null,
            "visibility": null,
            "width": null
          }
        },
        "edbfd6efe69c47128a81aa39a97cad55": {
          "model_module": "@jupyter-widgets/controls",
          "model_name": "DescriptionStyleModel",
          "model_module_version": "1.5.0",
          "state": {
            "_model_module": "@jupyter-widgets/controls",
            "_model_module_version": "1.5.0",
            "_model_name": "DescriptionStyleModel",
            "_view_count": null,
            "_view_module": "@jupyter-widgets/base",
            "_view_module_version": "1.2.0",
            "_view_name": "StyleView",
            "description_width": ""
          }
        },
        "ce4ae0c99fb34444bb76a6c2809da3f7": {
          "model_module": "@jupyter-widgets/controls",
          "model_name": "HBoxModel",
          "model_module_version": "1.5.0",
          "state": {
            "_dom_classes": [],
            "_model_module": "@jupyter-widgets/controls",
            "_model_module_version": "1.5.0",
            "_model_name": "HBoxModel",
            "_view_count": null,
            "_view_module": "@jupyter-widgets/controls",
            "_view_module_version": "1.5.0",
            "_view_name": "HBoxView",
            "box_style": "",
            "children": [
              "IPY_MODEL_261461ebacb64b719a846b43834d9ebf",
              "IPY_MODEL_2cd0dc91ece9435b823afb17257dc4f5",
              "IPY_MODEL_97943fc3a9dd4c6bbb30252a55d8baf8"
            ],
            "layout": "IPY_MODEL_995c7d488542413fab1fafa32fefbe8b"
          }
        },
        "261461ebacb64b719a846b43834d9ebf": {
          "model_module": "@jupyter-widgets/controls",
          "model_name": "HTMLModel",
          "model_module_version": "1.5.0",
          "state": {
            "_dom_classes": [],
            "_model_module": "@jupyter-widgets/controls",
            "_model_module_version": "1.5.0",
            "_model_name": "HTMLModel",
            "_view_count": null,
            "_view_module": "@jupyter-widgets/controls",
            "_view_module_version": "1.5.0",
            "_view_name": "HTMLView",
            "description": "",
            "description_tooltip": null,
            "layout": "IPY_MODEL_950d3fa12cf14db29707859ac4db1fd5",
            "placeholder": "​",
            "style": "IPY_MODEL_f54b665934634362912bffc4c821719e",
            "value": "Downloading: 100%"
          }
        },
        "2cd0dc91ece9435b823afb17257dc4f5": {
          "model_module": "@jupyter-widgets/controls",
          "model_name": "FloatProgressModel",
          "model_module_version": "1.5.0",
          "state": {
            "_dom_classes": [],
            "_model_module": "@jupyter-widgets/controls",
            "_model_module_version": "1.5.0",
            "_model_name": "FloatProgressModel",
            "_view_count": null,
            "_view_module": "@jupyter-widgets/controls",
            "_view_module_version": "1.5.0",
            "_view_name": "ProgressView",
            "bar_style": "success",
            "description": "",
            "description_tooltip": null,
            "layout": "IPY_MODEL_1a4c30528d784ff29941abda6619bef2",
            "max": 648,
            "min": 0,
            "orientation": "horizontal",
            "style": "IPY_MODEL_2580d4ecbfa24eee81f79da3e37bf63d",
            "value": 648
          }
        },
        "97943fc3a9dd4c6bbb30252a55d8baf8": {
          "model_module": "@jupyter-widgets/controls",
          "model_name": "HTMLModel",
          "model_module_version": "1.5.0",
          "state": {
            "_dom_classes": [],
            "_model_module": "@jupyter-widgets/controls",
            "_model_module_version": "1.5.0",
            "_model_name": "HTMLModel",
            "_view_count": null,
            "_view_module": "@jupyter-widgets/controls",
            "_view_module_version": "1.5.0",
            "_view_name": "HTMLView",
            "description": "",
            "description_tooltip": null,
            "layout": "IPY_MODEL_0b30bafefd874bd98a15cfa14ccfc04d",
            "placeholder": "​",
            "style": "IPY_MODEL_6c5df5a7dad44931bb2cbdbdaa615f80",
            "value": " 648/648 [00:00&lt;00:00, 16.9kB/s]"
          }
        },
        "995c7d488542413fab1fafa32fefbe8b": {
          "model_module": "@jupyter-widgets/base",
          "model_name": "LayoutModel",
          "model_module_version": "1.2.0",
          "state": {
            "_model_module": "@jupyter-widgets/base",
            "_model_module_version": "1.2.0",
            "_model_name": "LayoutModel",
            "_view_count": null,
            "_view_module": "@jupyter-widgets/base",
            "_view_module_version": "1.2.0",
            "_view_name": "LayoutView",
            "align_content": null,
            "align_items": null,
            "align_self": null,
            "border": null,
            "bottom": null,
            "display": null,
            "flex": null,
            "flex_flow": null,
            "grid_area": null,
            "grid_auto_columns": null,
            "grid_auto_flow": null,
            "grid_auto_rows": null,
            "grid_column": null,
            "grid_gap": null,
            "grid_row": null,
            "grid_template_areas": null,
            "grid_template_columns": null,
            "grid_template_rows": null,
            "height": null,
            "justify_content": null,
            "justify_items": null,
            "left": null,
            "margin": null,
            "max_height": null,
            "max_width": null,
            "min_height": null,
            "min_width": null,
            "object_fit": null,
            "object_position": null,
            "order": null,
            "overflow": null,
            "overflow_x": null,
            "overflow_y": null,
            "padding": null,
            "right": null,
            "top": null,
            "visibility": null,
            "width": null
          }
        },
        "950d3fa12cf14db29707859ac4db1fd5": {
          "model_module": "@jupyter-widgets/base",
          "model_name": "LayoutModel",
          "model_module_version": "1.2.0",
          "state": {
            "_model_module": "@jupyter-widgets/base",
            "_model_module_version": "1.2.0",
            "_model_name": "LayoutModel",
            "_view_count": null,
            "_view_module": "@jupyter-widgets/base",
            "_view_module_version": "1.2.0",
            "_view_name": "LayoutView",
            "align_content": null,
            "align_items": null,
            "align_self": null,
            "border": null,
            "bottom": null,
            "display": null,
            "flex": null,
            "flex_flow": null,
            "grid_area": null,
            "grid_auto_columns": null,
            "grid_auto_flow": null,
            "grid_auto_rows": null,
            "grid_column": null,
            "grid_gap": null,
            "grid_row": null,
            "grid_template_areas": null,
            "grid_template_columns": null,
            "grid_template_rows": null,
            "height": null,
            "justify_content": null,
            "justify_items": null,
            "left": null,
            "margin": null,
            "max_height": null,
            "max_width": null,
            "min_height": null,
            "min_width": null,
            "object_fit": null,
            "object_position": null,
            "order": null,
            "overflow": null,
            "overflow_x": null,
            "overflow_y": null,
            "padding": null,
            "right": null,
            "top": null,
            "visibility": null,
            "width": null
          }
        },
        "f54b665934634362912bffc4c821719e": {
          "model_module": "@jupyter-widgets/controls",
          "model_name": "DescriptionStyleModel",
          "model_module_version": "1.5.0",
          "state": {
            "_model_module": "@jupyter-widgets/controls",
            "_model_module_version": "1.5.0",
            "_model_name": "DescriptionStyleModel",
            "_view_count": null,
            "_view_module": "@jupyter-widgets/base",
            "_view_module_version": "1.2.0",
            "_view_name": "StyleView",
            "description_width": ""
          }
        },
        "1a4c30528d784ff29941abda6619bef2": {
          "model_module": "@jupyter-widgets/base",
          "model_name": "LayoutModel",
          "model_module_version": "1.2.0",
          "state": {
            "_model_module": "@jupyter-widgets/base",
            "_model_module_version": "1.2.0",
            "_model_name": "LayoutModel",
            "_view_count": null,
            "_view_module": "@jupyter-widgets/base",
            "_view_module_version": "1.2.0",
            "_view_name": "LayoutView",
            "align_content": null,
            "align_items": null,
            "align_self": null,
            "border": null,
            "bottom": null,
            "display": null,
            "flex": null,
            "flex_flow": null,
            "grid_area": null,
            "grid_auto_columns": null,
            "grid_auto_flow": null,
            "grid_auto_rows": null,
            "grid_column": null,
            "grid_gap": null,
            "grid_row": null,
            "grid_template_areas": null,
            "grid_template_columns": null,
            "grid_template_rows": null,
            "height": null,
            "justify_content": null,
            "justify_items": null,
            "left": null,
            "margin": null,
            "max_height": null,
            "max_width": null,
            "min_height": null,
            "min_width": null,
            "object_fit": null,
            "object_position": null,
            "order": null,
            "overflow": null,
            "overflow_x": null,
            "overflow_y": null,
            "padding": null,
            "right": null,
            "top": null,
            "visibility": null,
            "width": null
          }
        },
        "2580d4ecbfa24eee81f79da3e37bf63d": {
          "model_module": "@jupyter-widgets/controls",
          "model_name": "ProgressStyleModel",
          "model_module_version": "1.5.0",
          "state": {
            "_model_module": "@jupyter-widgets/controls",
            "_model_module_version": "1.5.0",
            "_model_name": "ProgressStyleModel",
            "_view_count": null,
            "_view_module": "@jupyter-widgets/base",
            "_view_module_version": "1.2.0",
            "_view_name": "StyleView",
            "bar_color": null,
            "description_width": ""
          }
        },
        "0b30bafefd874bd98a15cfa14ccfc04d": {
          "model_module": "@jupyter-widgets/base",
          "model_name": "LayoutModel",
          "model_module_version": "1.2.0",
          "state": {
            "_model_module": "@jupyter-widgets/base",
            "_model_module_version": "1.2.0",
            "_model_name": "LayoutModel",
            "_view_count": null,
            "_view_module": "@jupyter-widgets/base",
            "_view_module_version": "1.2.0",
            "_view_name": "LayoutView",
            "align_content": null,
            "align_items": null,
            "align_self": null,
            "border": null,
            "bottom": null,
            "display": null,
            "flex": null,
            "flex_flow": null,
            "grid_area": null,
            "grid_auto_columns": null,
            "grid_auto_flow": null,
            "grid_auto_rows": null,
            "grid_column": null,
            "grid_gap": null,
            "grid_row": null,
            "grid_template_areas": null,
            "grid_template_columns": null,
            "grid_template_rows": null,
            "height": null,
            "justify_content": null,
            "justify_items": null,
            "left": null,
            "margin": null,
            "max_height": null,
            "max_width": null,
            "min_height": null,
            "min_width": null,
            "object_fit": null,
            "object_position": null,
            "order": null,
            "overflow": null,
            "overflow_x": null,
            "overflow_y": null,
            "padding": null,
            "right": null,
            "top": null,
            "visibility": null,
            "width": null
          }
        },
        "6c5df5a7dad44931bb2cbdbdaa615f80": {
          "model_module": "@jupyter-widgets/controls",
          "model_name": "DescriptionStyleModel",
          "model_module_version": "1.5.0",
          "state": {
            "_model_module": "@jupyter-widgets/controls",
            "_model_module_version": "1.5.0",
            "_model_name": "DescriptionStyleModel",
            "_view_count": null,
            "_view_module": "@jupyter-widgets/base",
            "_view_module_version": "1.2.0",
            "_view_name": "StyleView",
            "description_width": ""
          }
        },
        "1f350d187c5e4e7b93e8471cc204ac88": {
          "model_module": "@jupyter-widgets/controls",
          "model_name": "HBoxModel",
          "model_module_version": "1.5.0",
          "state": {
            "_dom_classes": [],
            "_model_module": "@jupyter-widgets/controls",
            "_model_module_version": "1.5.0",
            "_model_name": "HBoxModel",
            "_view_count": null,
            "_view_module": "@jupyter-widgets/controls",
            "_view_module_version": "1.5.0",
            "_view_name": "HBoxView",
            "box_style": "",
            "children": [
              "IPY_MODEL_787df1f830f24b05baf7e4d84738a821",
              "IPY_MODEL_675e56300d624bc598148ef46cdee88f",
              "IPY_MODEL_dbf30150762a48e2abee333d3d7ecb83"
            ],
            "layout": "IPY_MODEL_cfe3c0ff147349fd83e06c4709d8908d"
          }
        },
        "787df1f830f24b05baf7e4d84738a821": {
          "model_module": "@jupyter-widgets/controls",
          "model_name": "HTMLModel",
          "model_module_version": "1.5.0",
          "state": {
            "_dom_classes": [],
            "_model_module": "@jupyter-widgets/controls",
            "_model_module_version": "1.5.0",
            "_model_name": "HTMLModel",
            "_view_count": null,
            "_view_module": "@jupyter-widgets/controls",
            "_view_module_version": "1.5.0",
            "_view_name": "HTMLView",
            "description": "",
            "description_tooltip": null,
            "layout": "IPY_MODEL_b2b178bf516940059b9b61afd8221baa",
            "placeholder": "​",
            "style": "IPY_MODEL_0e3496c067094a95bdccfb38abd80a9e",
            "value": "Downloading: 100%"
          }
        },
        "675e56300d624bc598148ef46cdee88f": {
          "model_module": "@jupyter-widgets/controls",
          "model_name": "FloatProgressModel",
          "model_module_version": "1.5.0",
          "state": {
            "_dom_classes": [],
            "_model_module": "@jupyter-widgets/controls",
            "_model_module_version": "1.5.0",
            "_model_name": "FloatProgressModel",
            "_view_count": null,
            "_view_module": "@jupyter-widgets/controls",
            "_view_module_version": "1.5.0",
            "_view_name": "ProgressView",
            "bar_style": "success",
            "description": "",
            "description_tooltip": null,
            "layout": "IPY_MODEL_fcf4c59781b44f0282cec636a8d0d18a",
            "max": 439621341,
            "min": 0,
            "orientation": "horizontal",
            "style": "IPY_MODEL_e97a210bc75242a9b2716cf7da02041d",
            "value": 439621341
          }
        },
        "dbf30150762a48e2abee333d3d7ecb83": {
          "model_module": "@jupyter-widgets/controls",
          "model_name": "HTMLModel",
          "model_module_version": "1.5.0",
          "state": {
            "_dom_classes": [],
            "_model_module": "@jupyter-widgets/controls",
            "_model_module_version": "1.5.0",
            "_model_name": "HTMLModel",
            "_view_count": null,
            "_view_module": "@jupyter-widgets/controls",
            "_view_module_version": "1.5.0",
            "_view_name": "HTMLView",
            "description": "",
            "description_tooltip": null,
            "layout": "IPY_MODEL_6f0da71922bb4d959c2a1f42cd34157a",
            "placeholder": "​",
            "style": "IPY_MODEL_1074b8bb5c644367a027885bf52fc89e",
            "value": " 419M/419M [00:20&lt;00:00, 17.2MB/s]"
          }
        },
        "cfe3c0ff147349fd83e06c4709d8908d": {
          "model_module": "@jupyter-widgets/base",
          "model_name": "LayoutModel",
          "model_module_version": "1.2.0",
          "state": {
            "_model_module": "@jupyter-widgets/base",
            "_model_module_version": "1.2.0",
            "_model_name": "LayoutModel",
            "_view_count": null,
            "_view_module": "@jupyter-widgets/base",
            "_view_module_version": "1.2.0",
            "_view_name": "LayoutView",
            "align_content": null,
            "align_items": null,
            "align_self": null,
            "border": null,
            "bottom": null,
            "display": null,
            "flex": null,
            "flex_flow": null,
            "grid_area": null,
            "grid_auto_columns": null,
            "grid_auto_flow": null,
            "grid_auto_rows": null,
            "grid_column": null,
            "grid_gap": null,
            "grid_row": null,
            "grid_template_areas": null,
            "grid_template_columns": null,
            "grid_template_rows": null,
            "height": null,
            "justify_content": null,
            "justify_items": null,
            "left": null,
            "margin": null,
            "max_height": null,
            "max_width": null,
            "min_height": null,
            "min_width": null,
            "object_fit": null,
            "object_position": null,
            "order": null,
            "overflow": null,
            "overflow_x": null,
            "overflow_y": null,
            "padding": null,
            "right": null,
            "top": null,
            "visibility": null,
            "width": null
          }
        },
        "b2b178bf516940059b9b61afd8221baa": {
          "model_module": "@jupyter-widgets/base",
          "model_name": "LayoutModel",
          "model_module_version": "1.2.0",
          "state": {
            "_model_module": "@jupyter-widgets/base",
            "_model_module_version": "1.2.0",
            "_model_name": "LayoutModel",
            "_view_count": null,
            "_view_module": "@jupyter-widgets/base",
            "_view_module_version": "1.2.0",
            "_view_name": "LayoutView",
            "align_content": null,
            "align_items": null,
            "align_self": null,
            "border": null,
            "bottom": null,
            "display": null,
            "flex": null,
            "flex_flow": null,
            "grid_area": null,
            "grid_auto_columns": null,
            "grid_auto_flow": null,
            "grid_auto_rows": null,
            "grid_column": null,
            "grid_gap": null,
            "grid_row": null,
            "grid_template_areas": null,
            "grid_template_columns": null,
            "grid_template_rows": null,
            "height": null,
            "justify_content": null,
            "justify_items": null,
            "left": null,
            "margin": null,
            "max_height": null,
            "max_width": null,
            "min_height": null,
            "min_width": null,
            "object_fit": null,
            "object_position": null,
            "order": null,
            "overflow": null,
            "overflow_x": null,
            "overflow_y": null,
            "padding": null,
            "right": null,
            "top": null,
            "visibility": null,
            "width": null
          }
        },
        "0e3496c067094a95bdccfb38abd80a9e": {
          "model_module": "@jupyter-widgets/controls",
          "model_name": "DescriptionStyleModel",
          "model_module_version": "1.5.0",
          "state": {
            "_model_module": "@jupyter-widgets/controls",
            "_model_module_version": "1.5.0",
            "_model_name": "DescriptionStyleModel",
            "_view_count": null,
            "_view_module": "@jupyter-widgets/base",
            "_view_module_version": "1.2.0",
            "_view_name": "StyleView",
            "description_width": ""
          }
        },
        "fcf4c59781b44f0282cec636a8d0d18a": {
          "model_module": "@jupyter-widgets/base",
          "model_name": "LayoutModel",
          "model_module_version": "1.2.0",
          "state": {
            "_model_module": "@jupyter-widgets/base",
            "_model_module_version": "1.2.0",
            "_model_name": "LayoutModel",
            "_view_count": null,
            "_view_module": "@jupyter-widgets/base",
            "_view_module_version": "1.2.0",
            "_view_name": "LayoutView",
            "align_content": null,
            "align_items": null,
            "align_self": null,
            "border": null,
            "bottom": null,
            "display": null,
            "flex": null,
            "flex_flow": null,
            "grid_area": null,
            "grid_auto_columns": null,
            "grid_auto_flow": null,
            "grid_auto_rows": null,
            "grid_column": null,
            "grid_gap": null,
            "grid_row": null,
            "grid_template_areas": null,
            "grid_template_columns": null,
            "grid_template_rows": null,
            "height": null,
            "justify_content": null,
            "justify_items": null,
            "left": null,
            "margin": null,
            "max_height": null,
            "max_width": null,
            "min_height": null,
            "min_width": null,
            "object_fit": null,
            "object_position": null,
            "order": null,
            "overflow": null,
            "overflow_x": null,
            "overflow_y": null,
            "padding": null,
            "right": null,
            "top": null,
            "visibility": null,
            "width": null
          }
        },
        "e97a210bc75242a9b2716cf7da02041d": {
          "model_module": "@jupyter-widgets/controls",
          "model_name": "ProgressStyleModel",
          "model_module_version": "1.5.0",
          "state": {
            "_model_module": "@jupyter-widgets/controls",
            "_model_module_version": "1.5.0",
            "_model_name": "ProgressStyleModel",
            "_view_count": null,
            "_view_module": "@jupyter-widgets/base",
            "_view_module_version": "1.2.0",
            "_view_name": "StyleView",
            "bar_color": null,
            "description_width": ""
          }
        },
        "6f0da71922bb4d959c2a1f42cd34157a": {
          "model_module": "@jupyter-widgets/base",
          "model_name": "LayoutModel",
          "model_module_version": "1.2.0",
          "state": {
            "_model_module": "@jupyter-widgets/base",
            "_model_module_version": "1.2.0",
            "_model_name": "LayoutModel",
            "_view_count": null,
            "_view_module": "@jupyter-widgets/base",
            "_view_module_version": "1.2.0",
            "_view_name": "LayoutView",
            "align_content": null,
            "align_items": null,
            "align_self": null,
            "border": null,
            "bottom": null,
            "display": null,
            "flex": null,
            "flex_flow": null,
            "grid_area": null,
            "grid_auto_columns": null,
            "grid_auto_flow": null,
            "grid_auto_rows": null,
            "grid_column": null,
            "grid_gap": null,
            "grid_row": null,
            "grid_template_areas": null,
            "grid_template_columns": null,
            "grid_template_rows": null,
            "height": null,
            "justify_content": null,
            "justify_items": null,
            "left": null,
            "margin": null,
            "max_height": null,
            "max_width": null,
            "min_height": null,
            "min_width": null,
            "object_fit": null,
            "object_position": null,
            "order": null,
            "overflow": null,
            "overflow_x": null,
            "overflow_y": null,
            "padding": null,
            "right": null,
            "top": null,
            "visibility": null,
            "width": null
          }
        },
        "1074b8bb5c644367a027885bf52fc89e": {
          "model_module": "@jupyter-widgets/controls",
          "model_name": "DescriptionStyleModel",
          "model_module_version": "1.5.0",
          "state": {
            "_model_module": "@jupyter-widgets/controls",
            "_model_module_version": "1.5.0",
            "_model_name": "DescriptionStyleModel",
            "_view_count": null,
            "_view_module": "@jupyter-widgets/base",
            "_view_module_version": "1.2.0",
            "_view_name": "StyleView",
            "description_width": ""
          }
        }
      }
    }
  },
  "nbformat": 4,
  "nbformat_minor": 5
}